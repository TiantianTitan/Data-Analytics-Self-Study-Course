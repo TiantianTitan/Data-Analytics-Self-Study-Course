{
 "cells": [
  {
   "cell_type": "markdown",
   "id": "79c8440f",
   "metadata": {},
   "source": [
    "## Les fonctions on va apprendre:\n",
    "- df.drop(labels = , axis = , inplace =)\n",
    "- df.loc[True] / df.loc[la liste de bool]"
   ]
  },
  {
   "cell_type": "markdown",
   "id": "d42ab884",
   "metadata": {},
   "source": [
    "#### Sortie de toutes les dates auxquelles l'action a clôturé plus de 3 % de plus que l'ouverture"
   ]
  },
  {
   "cell_type": "code",
   "execution_count": 1,
   "id": "c1da247b",
   "metadata": {},
   "outputs": [],
   "source": [
    "import tushare as ts\n",
    "import pandas as pd\n",
    "from pandas import DataFrame, Series\n",
    "import numpy as np"
   ]
  },
  {
   "cell_type": "code",
   "execution_count": 2,
   "id": "83a62dc5",
   "metadata": {},
   "outputs": [
    {
     "data": {
      "text/html": [
       "<div>\n",
       "<style scoped>\n",
       "    .dataframe tbody tr th:only-of-type {\n",
       "        vertical-align: middle;\n",
       "    }\n",
       "\n",
       "    .dataframe tbody tr th {\n",
       "        vertical-align: top;\n",
       "    }\n",
       "\n",
       "    .dataframe thead th {\n",
       "        text-align: right;\n",
       "    }\n",
       "</style>\n",
       "<table border=\"1\" class=\"dataframe\">\n",
       "  <thead>\n",
       "    <tr style=\"text-align: right;\">\n",
       "      <th></th>\n",
       "      <th>open</th>\n",
       "      <th>close</th>\n",
       "      <th>high</th>\n",
       "      <th>low</th>\n",
       "      <th>volume</th>\n",
       "      <th>code</th>\n",
       "    </tr>\n",
       "    <tr>\n",
       "      <th>date</th>\n",
       "      <th></th>\n",
       "      <th></th>\n",
       "      <th></th>\n",
       "      <th></th>\n",
       "      <th></th>\n",
       "      <th></th>\n",
       "    </tr>\n",
       "  </thead>\n",
       "  <tbody>\n",
       "    <tr>\n",
       "      <th>2018-01-02</th>\n",
       "      <td>594.559</td>\n",
       "      <td>598.409</td>\n",
       "      <td>604.719</td>\n",
       "      <td>584.449</td>\n",
       "      <td>49612.0</td>\n",
       "      <td>600519</td>\n",
       "    </tr>\n",
       "    <tr>\n",
       "      <th>2018-01-03</th>\n",
       "      <td>596.059</td>\n",
       "      <td>610.419</td>\n",
       "      <td>615.959</td>\n",
       "      <td>594.299</td>\n",
       "      <td>52019.0</td>\n",
       "      <td>600519</td>\n",
       "    </tr>\n",
       "    <tr>\n",
       "      <th>2018-01-04</th>\n",
       "      <td>615.959</td>\n",
       "      <td>631.629</td>\n",
       "      <td>638.059</td>\n",
       "      <td>613.889</td>\n",
       "      <td>72205.0</td>\n",
       "      <td>600519</td>\n",
       "    </tr>\n",
       "    <tr>\n",
       "      <th>2018-01-05</th>\n",
       "      <td>635.559</td>\n",
       "      <td>632.919</td>\n",
       "      <td>640.589</td>\n",
       "      <td>622.779</td>\n",
       "      <td>39989.0</td>\n",
       "      <td>600519</td>\n",
       "    </tr>\n",
       "    <tr>\n",
       "      <th>2018-01-08</th>\n",
       "      <td>629.579</td>\n",
       "      <td>646.689</td>\n",
       "      <td>651.059</td>\n",
       "      <td>629.579</td>\n",
       "      <td>52204.0</td>\n",
       "      <td>600519</td>\n",
       "    </tr>\n",
       "  </tbody>\n",
       "</table>\n",
       "</div>"
      ],
      "text/plain": [
       "               open    close     high      low   volume    code\n",
       "date                                                           \n",
       "2018-01-02  594.559  598.409  604.719  584.449  49612.0  600519\n",
       "2018-01-03  596.059  610.419  615.959  594.299  52019.0  600519\n",
       "2018-01-04  615.959  631.629  638.059  613.889  72205.0  600519\n",
       "2018-01-05  635.559  632.919  640.589  622.779  39989.0  600519\n",
       "2018-01-08  629.579  646.689  651.059  629.579  52204.0  600519"
      ]
     },
     "execution_count": 2,
     "metadata": {},
     "output_type": "execute_result"
    }
   ],
   "source": [
    "df = pd.read_csv('./action600519.csv')\n",
    "df.drop(labels = 'Unnamed: 0',axis = 1, inplace = True)\n",
    "df.set_index('date',inplace = True)\n",
    "df.head()"
   ]
  },
  {
   "cell_type": "markdown",
   "id": "4a1db961",
   "metadata": {},
   "source": [
    " -->  (close - open)/open > 0.03"
   ]
  },
  {
   "cell_type": "code",
   "execution_count": 3,
   "id": "e55dfa7a",
   "metadata": {},
   "outputs": [
    {
     "data": {
      "text/plain": [
       "date\n",
       "2018-01-02    False\n",
       "2018-01-03    False\n",
       "2018-01-04    False\n",
       "2018-01-05    False\n",
       "2018-01-08    False\n",
       "              ...  \n",
       "2023-06-21    False\n",
       "2023-06-26    False\n",
       "2023-06-27    False\n",
       "2023-06-28    False\n",
       "2023-06-29    False\n",
       "Length: 1332, dtype: bool"
      ]
     },
     "execution_count": 3,
     "metadata": {},
     "output_type": "execute_result"
    }
   ],
   "source": [
    "(df['close'] -df['open'])/df['open'] > 0.03"
   ]
  },
  {
   "cell_type": "markdown",
   "id": "d6a14c65",
   "metadata": {},
   "source": [
    "Dans le processus d'analyse, si une valeur bool est générée, l'étape suivante utilisera immédiatement bool comme index de ligne des données d'origine"
   ]
  },
  {
   "cell_type": "code",
   "execution_count": 4,
   "id": "114f0d5c",
   "metadata": {},
   "outputs": [
    {
     "data": {
      "text/html": [
       "<div>\n",
       "<style scoped>\n",
       "    .dataframe tbody tr th:only-of-type {\n",
       "        vertical-align: middle;\n",
       "    }\n",
       "\n",
       "    .dataframe tbody tr th {\n",
       "        vertical-align: top;\n",
       "    }\n",
       "\n",
       "    .dataframe thead th {\n",
       "        text-align: right;\n",
       "    }\n",
       "</style>\n",
       "<table border=\"1\" class=\"dataframe\">\n",
       "  <thead>\n",
       "    <tr style=\"text-align: right;\">\n",
       "      <th></th>\n",
       "      <th>open</th>\n",
       "      <th>close</th>\n",
       "      <th>high</th>\n",
       "      <th>low</th>\n",
       "      <th>volume</th>\n",
       "      <th>code</th>\n",
       "    </tr>\n",
       "    <tr>\n",
       "      <th>date</th>\n",
       "      <th></th>\n",
       "      <th></th>\n",
       "      <th></th>\n",
       "      <th></th>\n",
       "      <th></th>\n",
       "      <th></th>\n",
       "    </tr>\n",
       "  </thead>\n",
       "  <tbody>\n",
       "    <tr>\n",
       "      <th>2018-01-02</th>\n",
       "      <td>594.559</td>\n",
       "      <td>598.409</td>\n",
       "      <td>604.719</td>\n",
       "      <td>584.449</td>\n",
       "      <td>49612.0</td>\n",
       "      <td>600519</td>\n",
       "    </tr>\n",
       "    <tr>\n",
       "      <th>2018-01-03</th>\n",
       "      <td>596.059</td>\n",
       "      <td>610.419</td>\n",
       "      <td>615.959</td>\n",
       "      <td>594.299</td>\n",
       "      <td>52019.0</td>\n",
       "      <td>600519</td>\n",
       "    </tr>\n",
       "    <tr>\n",
       "      <th>2018-01-04</th>\n",
       "      <td>615.959</td>\n",
       "      <td>631.629</td>\n",
       "      <td>638.059</td>\n",
       "      <td>613.889</td>\n",
       "      <td>72205.0</td>\n",
       "      <td>600519</td>\n",
       "    </tr>\n",
       "    <tr>\n",
       "      <th>2018-01-05</th>\n",
       "      <td>635.559</td>\n",
       "      <td>632.919</td>\n",
       "      <td>640.589</td>\n",
       "      <td>622.779</td>\n",
       "      <td>39989.0</td>\n",
       "      <td>600519</td>\n",
       "    </tr>\n",
       "    <tr>\n",
       "      <th>2018-01-08</th>\n",
       "      <td>629.579</td>\n",
       "      <td>646.689</td>\n",
       "      <td>651.059</td>\n",
       "      <td>629.579</td>\n",
       "      <td>52204.0</td>\n",
       "      <td>600519</td>\n",
       "    </tr>\n",
       "    <tr>\n",
       "      <th>...</th>\n",
       "      <td>...</td>\n",
       "      <td>...</td>\n",
       "      <td>...</td>\n",
       "      <td>...</td>\n",
       "      <td>...</td>\n",
       "      <td>...</td>\n",
       "    </tr>\n",
       "    <tr>\n",
       "      <th>2023-06-21</th>\n",
       "      <td>1740.000</td>\n",
       "      <td>1735.830</td>\n",
       "      <td>1756.600</td>\n",
       "      <td>1735.000</td>\n",
       "      <td>17721.0</td>\n",
       "      <td>600519</td>\n",
       "    </tr>\n",
       "    <tr>\n",
       "      <th>2023-06-26</th>\n",
       "      <td>1720.110</td>\n",
       "      <td>1709.000</td>\n",
       "      <td>1730.000</td>\n",
       "      <td>1695.000</td>\n",
       "      <td>23993.0</td>\n",
       "      <td>600519</td>\n",
       "    </tr>\n",
       "    <tr>\n",
       "      <th>2023-06-27</th>\n",
       "      <td>1709.990</td>\n",
       "      <td>1711.050</td>\n",
       "      <td>1719.700</td>\n",
       "      <td>1700.090</td>\n",
       "      <td>15174.0</td>\n",
       "      <td>600519</td>\n",
       "    </tr>\n",
       "    <tr>\n",
       "      <th>2023-06-28</th>\n",
       "      <td>1713.180</td>\n",
       "      <td>1728.380</td>\n",
       "      <td>1734.000</td>\n",
       "      <td>1711.000</td>\n",
       "      <td>18574.0</td>\n",
       "      <td>600519</td>\n",
       "    </tr>\n",
       "    <tr>\n",
       "      <th>2023-06-29</th>\n",
       "      <td>1731.000</td>\n",
       "      <td>1713.710</td>\n",
       "      <td>1734.990</td>\n",
       "      <td>1713.010</td>\n",
       "      <td>14231.0</td>\n",
       "      <td>600519</td>\n",
       "    </tr>\n",
       "  </tbody>\n",
       "</table>\n",
       "<p>1332 rows × 6 columns</p>\n",
       "</div>"
      ],
      "text/plain": [
       "                open     close      high       low   volume    code\n",
       "date                                                               \n",
       "2018-01-02   594.559   598.409   604.719   584.449  49612.0  600519\n",
       "2018-01-03   596.059   610.419   615.959   594.299  52019.0  600519\n",
       "2018-01-04   615.959   631.629   638.059   613.889  72205.0  600519\n",
       "2018-01-05   635.559   632.919   640.589   622.779  39989.0  600519\n",
       "2018-01-08   629.579   646.689   651.059   629.579  52204.0  600519\n",
       "...              ...       ...       ...       ...      ...     ...\n",
       "2023-06-21  1740.000  1735.830  1756.600  1735.000  17721.0  600519\n",
       "2023-06-26  1720.110  1709.000  1730.000  1695.000  23993.0  600519\n",
       "2023-06-27  1709.990  1711.050  1719.700  1700.090  15174.0  600519\n",
       "2023-06-28  1713.180  1728.380  1734.000  1711.000  18574.0  600519\n",
       "2023-06-29  1731.000  1713.710  1734.990  1713.010  14231.0  600519\n",
       "\n",
       "[1332 rows x 6 columns]"
      ]
     },
     "execution_count": 4,
     "metadata": {},
     "output_type": "execute_result"
    }
   ],
   "source": [
    "df.loc[(df['close'] -df['open']/df['open'] > 0.03)]"
   ]
  },
  {
   "cell_type": "markdown",
   "id": "930c00b8",
   "metadata": {},
   "source": [
    "Si la valeur booléenne est utilisée comme index de ligne de df, les données de ligne correspondant à true peuvent être extraites"
   ]
  },
  {
   "cell_type": "code",
   "execution_count": 5,
   "id": "d86e7dfb",
   "metadata": {},
   "outputs": [
    {
     "data": {
      "text/plain": [
       "Index(['2018-01-02', '2018-01-03', '2018-01-04', '2018-01-05', '2018-01-08',\n",
       "       '2018-01-09', '2018-01-10', '2018-01-11', '2018-01-12', '2018-01-15',\n",
       "       ...\n",
       "       '2023-06-14', '2023-06-15', '2023-06-16', '2023-06-19', '2023-06-20',\n",
       "       '2023-06-21', '2023-06-26', '2023-06-27', '2023-06-28', '2023-06-29'],\n",
       "      dtype='object', name='date', length=1332)"
      ]
     },
     "execution_count": 5,
     "metadata": {},
     "output_type": "execute_result"
    }
   ],
   "source": [
    "df.loc[(df['close'] -df['open']/df['open'] > 0.03)].index"
   ]
  }
 ],
 "metadata": {
  "kernelspec": {
   "display_name": "Python 3 (ipykernel)",
   "language": "python",
   "name": "python3"
  },
  "language_info": {
   "codemirror_mode": {
    "name": "ipython",
    "version": 3
   },
   "file_extension": ".py",
   "mimetype": "text/x-python",
   "name": "python",
   "nbconvert_exporter": "python",
   "pygments_lexer": "ipython3",
   "version": "3.10.9"
  }
 },
 "nbformat": 4,
 "nbformat_minor": 5
}
