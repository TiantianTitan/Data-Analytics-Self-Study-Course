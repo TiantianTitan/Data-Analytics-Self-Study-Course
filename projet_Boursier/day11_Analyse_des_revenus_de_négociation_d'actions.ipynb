{
 "cells": [
  {
   "cell_type": "markdown",
   "id": "e0ee3e20",
   "metadata": {},
   "source": [
    "#### Exigences : Permettez-moi d'acheter 100 actions le premier jour de bourse de chaque mois à compter du 1er janvier 2020 et de vendre toutes les actions le dernier jour de bourse de chaque année."
   ]
  },
  {
   "cell_type": "markdown",
   "id": "a19c118f",
   "metadata": {},
   "source": [
    "- Nœud temporel : 2020 ~ 2023 <br>\n",
    "chaque année: acheter 1200 actions <br>\n",
    "chaque année: vendre 1200 actions"
   ]
  },
  {
   "cell_type": "code",
   "execution_count": 3,
   "id": "2abd9cf2",
   "metadata": {},
   "outputs": [
    {
     "data": {
      "text/html": [
       "<div>\n",
       "<style scoped>\n",
       "    .dataframe tbody tr th:only-of-type {\n",
       "        vertical-align: middle;\n",
       "    }\n",
       "\n",
       "    .dataframe tbody tr th {\n",
       "        vertical-align: top;\n",
       "    }\n",
       "\n",
       "    .dataframe thead th {\n",
       "        text-align: right;\n",
       "    }\n",
       "</style>\n",
       "<table border=\"1\" class=\"dataframe\">\n",
       "  <thead>\n",
       "    <tr style=\"text-align: right;\">\n",
       "      <th></th>\n",
       "      <th>open</th>\n",
       "      <th>close</th>\n",
       "      <th>high</th>\n",
       "      <th>low</th>\n",
       "      <th>volume</th>\n",
       "      <th>code</th>\n",
       "    </tr>\n",
       "    <tr>\n",
       "      <th>date</th>\n",
       "      <th></th>\n",
       "      <th></th>\n",
       "      <th></th>\n",
       "      <th></th>\n",
       "      <th></th>\n",
       "      <th></th>\n",
       "    </tr>\n",
       "  </thead>\n",
       "  <tbody>\n",
       "    <tr>\n",
       "      <th>2018-01-02</th>\n",
       "      <td>594.559</td>\n",
       "      <td>598.409</td>\n",
       "      <td>604.719</td>\n",
       "      <td>584.449</td>\n",
       "      <td>49612.0</td>\n",
       "      <td>600519</td>\n",
       "    </tr>\n",
       "    <tr>\n",
       "      <th>2018-01-03</th>\n",
       "      <td>596.059</td>\n",
       "      <td>610.419</td>\n",
       "      <td>615.959</td>\n",
       "      <td>594.299</td>\n",
       "      <td>52019.0</td>\n",
       "      <td>600519</td>\n",
       "    </tr>\n",
       "    <tr>\n",
       "      <th>2018-01-04</th>\n",
       "      <td>615.959</td>\n",
       "      <td>631.629</td>\n",
       "      <td>638.059</td>\n",
       "      <td>613.889</td>\n",
       "      <td>72205.0</td>\n",
       "      <td>600519</td>\n",
       "    </tr>\n",
       "    <tr>\n",
       "      <th>2018-01-05</th>\n",
       "      <td>635.559</td>\n",
       "      <td>632.919</td>\n",
       "      <td>640.589</td>\n",
       "      <td>622.779</td>\n",
       "      <td>39989.0</td>\n",
       "      <td>600519</td>\n",
       "    </tr>\n",
       "    <tr>\n",
       "      <th>2018-01-08</th>\n",
       "      <td>629.579</td>\n",
       "      <td>646.689</td>\n",
       "      <td>651.059</td>\n",
       "      <td>629.579</td>\n",
       "      <td>52204.0</td>\n",
       "      <td>600519</td>\n",
       "    </tr>\n",
       "  </tbody>\n",
       "</table>\n",
       "</div>"
      ],
      "text/plain": [
       "               open    close     high      low   volume    code\n",
       "date                                                           \n",
       "2018-01-02  594.559  598.409  604.719  584.449  49612.0  600519\n",
       "2018-01-03  596.059  610.419  615.959  594.299  52019.0  600519\n",
       "2018-01-04  615.959  631.629  638.059  613.889  72205.0  600519\n",
       "2018-01-05  635.559  632.919  640.589  622.779  39989.0  600519\n",
       "2018-01-08  629.579  646.689  651.059  629.579  52204.0  600519"
      ]
     },
     "execution_count": 3,
     "metadata": {},
     "output_type": "execute_result"
    }
   ],
   "source": [
    "import pandas as pd\n",
    "from pandas import DataFrame, Series\n",
    "import numpy as np\n",
    "df = pd.read_csv('./action600519.csv')\n",
    "df.drop(labels = 'Unnamed: 0',axis = 1, inplace = True)\n",
    "df.set_index('date',inplace = True)\n",
    "df.head()"
   ]
  },
  {
   "cell_type": "code",
   "execution_count": 4,
   "id": "ea81c9ec",
   "metadata": {},
   "outputs": [
    {
     "name": "stdout",
     "output_type": "stream",
     "text": [
      "<class 'pandas.core.frame.DataFrame'>\n",
      "Index: 1332 entries, 2018-01-02 to 2023-06-29\n",
      "Data columns (total 6 columns):\n",
      " #   Column  Non-Null Count  Dtype  \n",
      "---  ------  --------------  -----  \n",
      " 0   open    1332 non-null   float64\n",
      " 1   close   1332 non-null   float64\n",
      " 2   high    1332 non-null   float64\n",
      " 3   low     1332 non-null   float64\n",
      " 4   volume  1332 non-null   float64\n",
      " 5   code    1332 non-null   int64  \n",
      "dtypes: float64(5), int64(1)\n",
      "memory usage: 72.8+ KB\n"
     ]
    }
   ],
   "source": [
    "df.info()"
   ]
  },
  {
   "cell_type": "code",
   "execution_count": 5,
   "id": "99cfcb87",
   "metadata": {},
   "outputs": [
    {
     "data": {
      "text/plain": [
       "dtype('O')"
      ]
     },
     "execution_count": 5,
     "metadata": {},
     "output_type": "execute_result"
    }
   ],
   "source": [
    "df.index.dtype"
   ]
  },
  {
   "cell_type": "code",
   "execution_count": 9,
   "id": "59e365f4",
   "metadata": {},
   "outputs": [],
   "source": [
    "df.index = pd.to_datetime(df.index)"
   ]
  },
  {
   "cell_type": "code",
   "execution_count": 10,
   "id": "65a9e8a2",
   "metadata": {},
   "outputs": [
    {
     "data": {
      "text/plain": [
       "dtype('<M8[ns]')"
      ]
     },
     "execution_count": 10,
     "metadata": {},
     "output_type": "execute_result"
    }
   ],
   "source": [
    "df.index.dtype"
   ]
  },
  {
   "cell_type": "code",
   "execution_count": 11,
   "id": "d6e207b9",
   "metadata": {},
   "outputs": [
    {
     "data": {
      "text/html": [
       "<div>\n",
       "<style scoped>\n",
       "    .dataframe tbody tr th:only-of-type {\n",
       "        vertical-align: middle;\n",
       "    }\n",
       "\n",
       "    .dataframe tbody tr th {\n",
       "        vertical-align: top;\n",
       "    }\n",
       "\n",
       "    .dataframe thead th {\n",
       "        text-align: right;\n",
       "    }\n",
       "</style>\n",
       "<table border=\"1\" class=\"dataframe\">\n",
       "  <thead>\n",
       "    <tr style=\"text-align: right;\">\n",
       "      <th></th>\n",
       "      <th>open</th>\n",
       "      <th>close</th>\n",
       "      <th>high</th>\n",
       "      <th>low</th>\n",
       "      <th>volume</th>\n",
       "      <th>code</th>\n",
       "    </tr>\n",
       "    <tr>\n",
       "      <th>date</th>\n",
       "      <th></th>\n",
       "      <th></th>\n",
       "      <th></th>\n",
       "      <th></th>\n",
       "      <th></th>\n",
       "      <th></th>\n",
       "    </tr>\n",
       "  </thead>\n",
       "  <tbody>\n",
       "    <tr>\n",
       "      <th>2023-06-21</th>\n",
       "      <td>1740.00</td>\n",
       "      <td>1735.83</td>\n",
       "      <td>1756.60</td>\n",
       "      <td>1735.00</td>\n",
       "      <td>17721.0</td>\n",
       "      <td>600519</td>\n",
       "    </tr>\n",
       "    <tr>\n",
       "      <th>2023-06-26</th>\n",
       "      <td>1720.11</td>\n",
       "      <td>1709.00</td>\n",
       "      <td>1730.00</td>\n",
       "      <td>1695.00</td>\n",
       "      <td>23993.0</td>\n",
       "      <td>600519</td>\n",
       "    </tr>\n",
       "    <tr>\n",
       "      <th>2023-06-27</th>\n",
       "      <td>1709.99</td>\n",
       "      <td>1711.05</td>\n",
       "      <td>1719.70</td>\n",
       "      <td>1700.09</td>\n",
       "      <td>15174.0</td>\n",
       "      <td>600519</td>\n",
       "    </tr>\n",
       "    <tr>\n",
       "      <th>2023-06-28</th>\n",
       "      <td>1713.18</td>\n",
       "      <td>1728.38</td>\n",
       "      <td>1734.00</td>\n",
       "      <td>1711.00</td>\n",
       "      <td>18574.0</td>\n",
       "      <td>600519</td>\n",
       "    </tr>\n",
       "    <tr>\n",
       "      <th>2023-06-29</th>\n",
       "      <td>1731.00</td>\n",
       "      <td>1713.71</td>\n",
       "      <td>1734.99</td>\n",
       "      <td>1713.01</td>\n",
       "      <td>14231.0</td>\n",
       "      <td>600519</td>\n",
       "    </tr>\n",
       "  </tbody>\n",
       "</table>\n",
       "</div>"
      ],
      "text/plain": [
       "               open    close     high      low   volume    code\n",
       "date                                                           \n",
       "2023-06-21  1740.00  1735.83  1756.60  1735.00  17721.0  600519\n",
       "2023-06-26  1720.11  1709.00  1730.00  1695.00  23993.0  600519\n",
       "2023-06-27  1709.99  1711.05  1719.70  1700.09  15174.0  600519\n",
       "2023-06-28  1713.18  1728.38  1734.00  1711.00  18574.0  600519\n",
       "2023-06-29  1731.00  1713.71  1734.99  1713.01  14231.0  600519"
      ]
     },
     "execution_count": 11,
     "metadata": {},
     "output_type": "execute_result"
    }
   ],
   "source": [
    "df.tail()"
   ]
  },
  {
   "cell_type": "code",
   "execution_count": 12,
   "id": "5a755583",
   "metadata": {},
   "outputs": [],
   "source": [
    "new_df = df['2020-01':'2023-06']"
   ]
  },
  {
   "cell_type": "code",
   "execution_count": 13,
   "id": "239af862",
   "metadata": {},
   "outputs": [
    {
     "data": {
      "text/html": [
       "<div>\n",
       "<style scoped>\n",
       "    .dataframe tbody tr th:only-of-type {\n",
       "        vertical-align: middle;\n",
       "    }\n",
       "\n",
       "    .dataframe tbody tr th {\n",
       "        vertical-align: top;\n",
       "    }\n",
       "\n",
       "    .dataframe thead th {\n",
       "        text-align: right;\n",
       "    }\n",
       "</style>\n",
       "<table border=\"1\" class=\"dataframe\">\n",
       "  <thead>\n",
       "    <tr style=\"text-align: right;\">\n",
       "      <th></th>\n",
       "      <th>open</th>\n",
       "      <th>close</th>\n",
       "      <th>high</th>\n",
       "      <th>low</th>\n",
       "      <th>volume</th>\n",
       "      <th>code</th>\n",
       "    </tr>\n",
       "    <tr>\n",
       "      <th>date</th>\n",
       "      <th></th>\n",
       "      <th></th>\n",
       "      <th></th>\n",
       "      <th></th>\n",
       "      <th></th>\n",
       "      <th></th>\n",
       "    </tr>\n",
       "  </thead>\n",
       "  <tbody>\n",
       "    <tr>\n",
       "      <th>2020-01-02</th>\n",
       "      <td>1048.097</td>\n",
       "      <td>1050.097</td>\n",
       "      <td>1065.157</td>\n",
       "      <td>1036.097</td>\n",
       "      <td>148099.0</td>\n",
       "      <td>600519</td>\n",
       "    </tr>\n",
       "    <tr>\n",
       "      <th>2020-01-03</th>\n",
       "      <td>1037.097</td>\n",
       "      <td>998.657</td>\n",
       "      <td>1037.097</td>\n",
       "      <td>996.997</td>\n",
       "      <td>130318.0</td>\n",
       "      <td>600519</td>\n",
       "    </tr>\n",
       "    <tr>\n",
       "      <th>2020-01-06</th>\n",
       "      <td>990.957</td>\n",
       "      <td>998.087</td>\n",
       "      <td>1012.997</td>\n",
       "      <td>987.397</td>\n",
       "      <td>63414.0</td>\n",
       "      <td>600519</td>\n",
       "    </tr>\n",
       "    <tr>\n",
       "      <th>2020-01-07</th>\n",
       "      <td>997.597</td>\n",
       "      <td>1014.627</td>\n",
       "      <td>1019.097</td>\n",
       "      <td>996.497</td>\n",
       "      <td>47853.0</td>\n",
       "      <td>600519</td>\n",
       "    </tr>\n",
       "    <tr>\n",
       "      <th>2020-01-08</th>\n",
       "      <td>1005.147</td>\n",
       "      <td>1008.237</td>\n",
       "      <td>1015.597</td>\n",
       "      <td>1002.677</td>\n",
       "      <td>25008.0</td>\n",
       "      <td>600519</td>\n",
       "    </tr>\n",
       "    <tr>\n",
       "      <th>...</th>\n",
       "      <td>...</td>\n",
       "      <td>...</td>\n",
       "      <td>...</td>\n",
       "      <td>...</td>\n",
       "      <td>...</td>\n",
       "      <td>...</td>\n",
       "    </tr>\n",
       "    <tr>\n",
       "      <th>2023-06-21</th>\n",
       "      <td>1740.000</td>\n",
       "      <td>1735.830</td>\n",
       "      <td>1756.600</td>\n",
       "      <td>1735.000</td>\n",
       "      <td>17721.0</td>\n",
       "      <td>600519</td>\n",
       "    </tr>\n",
       "    <tr>\n",
       "      <th>2023-06-26</th>\n",
       "      <td>1720.110</td>\n",
       "      <td>1709.000</td>\n",
       "      <td>1730.000</td>\n",
       "      <td>1695.000</td>\n",
       "      <td>23993.0</td>\n",
       "      <td>600519</td>\n",
       "    </tr>\n",
       "    <tr>\n",
       "      <th>2023-06-27</th>\n",
       "      <td>1709.990</td>\n",
       "      <td>1711.050</td>\n",
       "      <td>1719.700</td>\n",
       "      <td>1700.090</td>\n",
       "      <td>15174.0</td>\n",
       "      <td>600519</td>\n",
       "    </tr>\n",
       "    <tr>\n",
       "      <th>2023-06-28</th>\n",
       "      <td>1713.180</td>\n",
       "      <td>1728.380</td>\n",
       "      <td>1734.000</td>\n",
       "      <td>1711.000</td>\n",
       "      <td>18574.0</td>\n",
       "      <td>600519</td>\n",
       "    </tr>\n",
       "    <tr>\n",
       "      <th>2023-06-29</th>\n",
       "      <td>1731.000</td>\n",
       "      <td>1713.710</td>\n",
       "      <td>1734.990</td>\n",
       "      <td>1713.010</td>\n",
       "      <td>14231.0</td>\n",
       "      <td>600519</td>\n",
       "    </tr>\n",
       "  </tbody>\n",
       "</table>\n",
       "<p>845 rows × 6 columns</p>\n",
       "</div>"
      ],
      "text/plain": [
       "                open     close      high       low    volume    code\n",
       "date                                                                \n",
       "2020-01-02  1048.097  1050.097  1065.157  1036.097  148099.0  600519\n",
       "2020-01-03  1037.097   998.657  1037.097   996.997  130318.0  600519\n",
       "2020-01-06   990.957   998.087  1012.997   987.397   63414.0  600519\n",
       "2020-01-07   997.597  1014.627  1019.097   996.497   47853.0  600519\n",
       "2020-01-08  1005.147  1008.237  1015.597  1002.677   25008.0  600519\n",
       "...              ...       ...       ...       ...       ...     ...\n",
       "2023-06-21  1740.000  1735.830  1756.600  1735.000   17721.0  600519\n",
       "2023-06-26  1720.110  1709.000  1730.000  1695.000   23993.0  600519\n",
       "2023-06-27  1709.990  1711.050  1719.700  1700.090   15174.0  600519\n",
       "2023-06-28  1713.180  1728.380  1734.000  1711.000   18574.0  600519\n",
       "2023-06-29  1731.000  1713.710  1734.990  1713.010   14231.0  600519\n",
       "\n",
       "[845 rows x 6 columns]"
      ]
     },
     "execution_count": 13,
     "metadata": {},
     "output_type": "execute_result"
    }
   ],
   "source": [
    "new_df"
   ]
  },
  {
   "cell_type": "code",
   "execution_count": 19,
   "id": "c0cbc0c7",
   "metadata": {},
   "outputs": [],
   "source": [
    "# Acheter les actions\n",
    "# Trouver le premier jour de bourse de chaque mois\n",
    "df_monthly = new_df.resample('M').first() #Rééchantillonnage des données"
   ]
  },
  {
   "cell_type": "code",
   "execution_count": 24,
   "id": "d5acad90",
   "metadata": {},
   "outputs": [],
   "source": [
    "cost_Total = df_monthly['open'].sum() * 100"
   ]
  },
  {
   "cell_type": "code",
   "execution_count": 25,
   "id": "a9b7f8dc",
   "metadata": {},
   "outputs": [
    {
     "data": {
      "text/plain": [
       "7094819.6"
      ]
     },
     "execution_count": 25,
     "metadata": {},
     "output_type": "execute_result"
    }
   ],
   "source": [
    "cost_Total"
   ]
  },
  {
   "cell_type": "code",
   "execution_count": 31,
   "id": "a23d138e",
   "metadata": {},
   "outputs": [
    {
     "data": {
      "text/html": [
       "<div>\n",
       "<style scoped>\n",
       "    .dataframe tbody tr th:only-of-type {\n",
       "        vertical-align: middle;\n",
       "    }\n",
       "\n",
       "    .dataframe tbody tr th {\n",
       "        vertical-align: top;\n",
       "    }\n",
       "\n",
       "    .dataframe thead th {\n",
       "        text-align: right;\n",
       "    }\n",
       "</style>\n",
       "<table border=\"1\" class=\"dataframe\">\n",
       "  <thead>\n",
       "    <tr style=\"text-align: right;\">\n",
       "      <th></th>\n",
       "      <th>open</th>\n",
       "      <th>close</th>\n",
       "      <th>high</th>\n",
       "      <th>low</th>\n",
       "      <th>volume</th>\n",
       "      <th>code</th>\n",
       "    </tr>\n",
       "    <tr>\n",
       "      <th>date</th>\n",
       "      <th></th>\n",
       "      <th></th>\n",
       "      <th></th>\n",
       "      <th></th>\n",
       "      <th></th>\n",
       "      <th></th>\n",
       "    </tr>\n",
       "  </thead>\n",
       "  <tbody>\n",
       "    <tr>\n",
       "      <th>2020-12-31</th>\n",
       "      <td>1878.122</td>\n",
       "      <td>1935.122</td>\n",
       "      <td>1936.102</td>\n",
       "      <td>1876.122</td>\n",
       "      <td>38860.0</td>\n",
       "      <td>600519</td>\n",
       "    </tr>\n",
       "    <tr>\n",
       "      <th>2021-12-31</th>\n",
       "      <td>2026.415</td>\n",
       "      <td>2006.415</td>\n",
       "      <td>2029.395</td>\n",
       "      <td>1984.415</td>\n",
       "      <td>29665.0</td>\n",
       "      <td>600519</td>\n",
       "    </tr>\n",
       "    <tr>\n",
       "      <th>2022-12-31</th>\n",
       "      <td>1736.000</td>\n",
       "      <td>1727.000</td>\n",
       "      <td>1752.990</td>\n",
       "      <td>1727.000</td>\n",
       "      <td>25333.0</td>\n",
       "      <td>600519</td>\n",
       "    </tr>\n",
       "    <tr>\n",
       "      <th>2023-12-31</th>\n",
       "      <td>1731.000</td>\n",
       "      <td>1713.710</td>\n",
       "      <td>1734.990</td>\n",
       "      <td>1713.010</td>\n",
       "      <td>14231.0</td>\n",
       "      <td>600519</td>\n",
       "    </tr>\n",
       "  </tbody>\n",
       "</table>\n",
       "</div>"
      ],
      "text/plain": [
       "                open     close      high       low   volume    code\n",
       "date                                                               \n",
       "2020-12-31  1878.122  1935.122  1936.102  1876.122  38860.0  600519\n",
       "2021-12-31  2026.415  2006.415  2029.395  1984.415  29665.0  600519\n",
       "2022-12-31  1736.000  1727.000  1752.990  1727.000  25333.0  600519\n",
       "2023-12-31  1731.000  1713.710  1734.990  1713.010  14231.0  600519"
      ]
     },
     "execution_count": 31,
     "metadata": {},
     "output_type": "execute_result"
    }
   ],
   "source": [
    "# Vendre les actions\n",
    "# Trouver le dernier jour de bourse de chaque année\n",
    "df_yearly = new_df.resample('A').last()\n",
    "df_yearly"
   ]
  },
  {
   "cell_type": "code",
   "execution_count": 35,
   "id": "15f7d269",
   "metadata": {},
   "outputs": [],
   "source": [
    "#Découpez la dernière ligne de 2023\n",
    "# l'autre solution:\n",
    "# df_yearly.drop(labels='2023-12-31',axis = 0, inplace = True)\n",
    "df_yearly = new_df.resample('A').last()[:-1]"
   ]
  },
  {
   "cell_type": "code",
   "execution_count": 36,
   "id": "037eae41",
   "metadata": {},
   "outputs": [
    {
     "data": {
      "text/html": [
       "<div>\n",
       "<style scoped>\n",
       "    .dataframe tbody tr th:only-of-type {\n",
       "        vertical-align: middle;\n",
       "    }\n",
       "\n",
       "    .dataframe tbody tr th {\n",
       "        vertical-align: top;\n",
       "    }\n",
       "\n",
       "    .dataframe thead th {\n",
       "        text-align: right;\n",
       "    }\n",
       "</style>\n",
       "<table border=\"1\" class=\"dataframe\">\n",
       "  <thead>\n",
       "    <tr style=\"text-align: right;\">\n",
       "      <th></th>\n",
       "      <th>open</th>\n",
       "      <th>close</th>\n",
       "      <th>high</th>\n",
       "      <th>low</th>\n",
       "      <th>volume</th>\n",
       "      <th>code</th>\n",
       "    </tr>\n",
       "    <tr>\n",
       "      <th>date</th>\n",
       "      <th></th>\n",
       "      <th></th>\n",
       "      <th></th>\n",
       "      <th></th>\n",
       "      <th></th>\n",
       "      <th></th>\n",
       "    </tr>\n",
       "  </thead>\n",
       "  <tbody>\n",
       "    <tr>\n",
       "      <th>2020-12-31</th>\n",
       "      <td>1878.122</td>\n",
       "      <td>1935.122</td>\n",
       "      <td>1936.102</td>\n",
       "      <td>1876.122</td>\n",
       "      <td>38860.0</td>\n",
       "      <td>600519</td>\n",
       "    </tr>\n",
       "    <tr>\n",
       "      <th>2021-12-31</th>\n",
       "      <td>2026.415</td>\n",
       "      <td>2006.415</td>\n",
       "      <td>2029.395</td>\n",
       "      <td>1984.415</td>\n",
       "      <td>29665.0</td>\n",
       "      <td>600519</td>\n",
       "    </tr>\n",
       "    <tr>\n",
       "      <th>2022-12-31</th>\n",
       "      <td>1736.000</td>\n",
       "      <td>1727.000</td>\n",
       "      <td>1752.990</td>\n",
       "      <td>1727.000</td>\n",
       "      <td>25333.0</td>\n",
       "      <td>600519</td>\n",
       "    </tr>\n",
       "  </tbody>\n",
       "</table>\n",
       "</div>"
      ],
      "text/plain": [
       "                open     close      high       low   volume    code\n",
       "date                                                               \n",
       "2020-12-31  1878.122  1935.122  1936.102  1876.122  38860.0  600519\n",
       "2021-12-31  2026.415  2006.415  2029.395  1984.415  29665.0  600519\n",
       "2022-12-31  1736.000  1727.000  1752.990  1727.000  25333.0  600519"
      ]
     },
     "execution_count": 36,
     "metadata": {},
     "output_type": "execute_result"
    }
   ],
   "source": [
    "df_yearly"
   ]
  },
  {
   "cell_type": "code",
   "execution_count": 38,
   "id": "46775641",
   "metadata": {},
   "outputs": [
    {
     "data": {
      "text/plain": [
       "6768644.4"
      ]
     },
     "execution_count": 38,
     "metadata": {},
     "output_type": "execute_result"
    }
   ],
   "source": [
    "reward_Total = df_yearly['open'].sum()*1200\n",
    "reward_Total"
   ]
  },
  {
   "cell_type": "markdown",
   "id": "5f1f2f7e",
   "metadata": {},
   "source": [
    "- Les actions restantes dans la main finale doivent être évaluées et calculées dans le rendement total"
   ]
  },
  {
   "cell_type": "code",
   "execution_count": 46,
   "id": "e06a64d3",
   "metadata": {},
   "outputs": [
    {
     "data": {
      "text/plain": [
       "1713.71"
      ]
     },
     "execution_count": 46,
     "metadata": {},
     "output_type": "execute_result"
    }
   ],
   "source": [
    "# Utilisez le cours de clôture d'hier comme prix unitaire de l'action\n",
    "new_df['close'][-1]"
   ]
  },
  {
   "cell_type": "code",
   "execution_count": 47,
   "id": "c1f95c61",
   "metadata": {},
   "outputs": [
    {
     "data": {
      "text/plain": [
       "1028226.0"
      ]
     },
     "execution_count": 47,
     "metadata": {},
     "output_type": "execute_result"
    }
   ],
   "source": [
    "reste = 600 * new_df['close'][-1]\n",
    "reste"
   ]
  },
  {
   "cell_type": "code",
   "execution_count": 48,
   "id": "5e8111fe",
   "metadata": {},
   "outputs": [],
   "source": [
    "resv = reward_Total - cost_Total + reste"
   ]
  },
  {
   "cell_type": "code",
   "execution_count": 49,
   "id": "8460c852",
   "metadata": {},
   "outputs": [
    {
     "data": {
      "text/plain": [
       "702050.8000000007"
      ]
     },
     "execution_count": 49,
     "metadata": {},
     "output_type": "execute_result"
    }
   ],
   "source": [
    "resv"
   ]
  }
 ],
 "metadata": {
  "kernelspec": {
   "display_name": "Python 3 (ipykernel)",
   "language": "python",
   "name": "python3"
  },
  "language_info": {
   "codemirror_mode": {
    "name": "ipython",
    "version": 3
   },
   "file_extension": ".py",
   "mimetype": "text/x-python",
   "name": "python",
   "nbconvert_exporter": "python",
   "pygments_lexer": "ipython3",
   "version": "3.10.9"
  }
 },
 "nbformat": 4,
 "nbformat_minor": 5
}
