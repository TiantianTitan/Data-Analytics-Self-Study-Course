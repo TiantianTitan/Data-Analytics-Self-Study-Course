{
 "cells": [
  {
   "cell_type": "code",
   "execution_count": 1,
   "id": "99fc56f1",
   "metadata": {},
   "outputs": [
    {
     "data": {
      "text/html": [
       "<div>\n",
       "<style scoped>\n",
       "    .dataframe tbody tr th:only-of-type {\n",
       "        vertical-align: middle;\n",
       "    }\n",
       "\n",
       "    .dataframe tbody tr th {\n",
       "        vertical-align: top;\n",
       "    }\n",
       "\n",
       "    .dataframe thead th {\n",
       "        text-align: right;\n",
       "    }\n",
       "</style>\n",
       "<table border=\"1\" class=\"dataframe\">\n",
       "  <thead>\n",
       "    <tr style=\"text-align: right;\">\n",
       "      <th></th>\n",
       "      <th>open</th>\n",
       "      <th>close</th>\n",
       "      <th>high</th>\n",
       "      <th>low</th>\n",
       "      <th>volume</th>\n",
       "      <th>code</th>\n",
       "    </tr>\n",
       "    <tr>\n",
       "      <th>date</th>\n",
       "      <th></th>\n",
       "      <th></th>\n",
       "      <th></th>\n",
       "      <th></th>\n",
       "      <th></th>\n",
       "      <th></th>\n",
       "    </tr>\n",
       "  </thead>\n",
       "  <tbody>\n",
       "    <tr>\n",
       "      <th>2018-01-02</th>\n",
       "      <td>594.559</td>\n",
       "      <td>598.409</td>\n",
       "      <td>604.719</td>\n",
       "      <td>584.449</td>\n",
       "      <td>49612.0</td>\n",
       "      <td>600519</td>\n",
       "    </tr>\n",
       "    <tr>\n",
       "      <th>2018-01-03</th>\n",
       "      <td>596.059</td>\n",
       "      <td>610.419</td>\n",
       "      <td>615.959</td>\n",
       "      <td>594.299</td>\n",
       "      <td>52019.0</td>\n",
       "      <td>600519</td>\n",
       "    </tr>\n",
       "    <tr>\n",
       "      <th>2018-01-04</th>\n",
       "      <td>615.959</td>\n",
       "      <td>631.629</td>\n",
       "      <td>638.059</td>\n",
       "      <td>613.889</td>\n",
       "      <td>72205.0</td>\n",
       "      <td>600519</td>\n",
       "    </tr>\n",
       "    <tr>\n",
       "      <th>2018-01-05</th>\n",
       "      <td>635.559</td>\n",
       "      <td>632.919</td>\n",
       "      <td>640.589</td>\n",
       "      <td>622.779</td>\n",
       "      <td>39989.0</td>\n",
       "      <td>600519</td>\n",
       "    </tr>\n",
       "    <tr>\n",
       "      <th>2018-01-08</th>\n",
       "      <td>629.579</td>\n",
       "      <td>646.689</td>\n",
       "      <td>651.059</td>\n",
       "      <td>629.579</td>\n",
       "      <td>52204.0</td>\n",
       "      <td>600519</td>\n",
       "    </tr>\n",
       "  </tbody>\n",
       "</table>\n",
       "</div>"
      ],
      "text/plain": [
       "               open    close     high      low   volume    code\n",
       "date                                                           \n",
       "2018-01-02  594.559  598.409  604.719  584.449  49612.0  600519\n",
       "2018-01-03  596.059  610.419  615.959  594.299  52019.0  600519\n",
       "2018-01-04  615.959  631.629  638.059  613.889  72205.0  600519\n",
       "2018-01-05  635.559  632.919  640.589  622.779  39989.0  600519\n",
       "2018-01-08  629.579  646.689  651.059  629.579  52204.0  600519"
      ]
     },
     "execution_count": 1,
     "metadata": {},
     "output_type": "execute_result"
    }
   ],
   "source": [
    "import pandas as pd\n",
    "from pandas import DataFrame, Series\n",
    "import numpy as np\n",
    "df = pd.read_csv('./action600519.csv')\n",
    "df.drop(labels = 'Unnamed: 0',axis = 1, inplace = True)\n",
    "df.set_index('date',inplace = True)\n",
    "df.head()"
   ]
  },
  {
   "cell_type": "markdown",
   "id": "63a17944",
   "metadata": {},
   "source": [
    "#### Afficher toutes les dates où le cours d'ouverture de l'action a chuté de plus de 2 % par rapport au cours de clôture de la veille"
   ]
  },
  {
   "cell_type": "markdown",
   "id": "e61b8de9",
   "metadata": {},
   "source": [
    "pseudo-code : (open - hier.close)/hier.close < -0.02"
   ]
  },
  {
   "cell_type": "code",
   "execution_count": 2,
   "id": "0127a8f8",
   "metadata": {},
   "outputs": [
    {
     "data": {
      "text/plain": [
       "date\n",
       "2018-01-02     598.409\n",
       "2018-01-03     610.419\n",
       "2018-01-04     631.629\n",
       "2018-01-05     632.919\n",
       "2018-01-08     646.689\n",
       "                ...   \n",
       "2023-06-21    1735.830\n",
       "2023-06-26    1709.000\n",
       "2023-06-27    1711.050\n",
       "2023-06-28    1728.380\n",
       "2023-06-29    1713.710\n",
       "Name: close, Length: 1332, dtype: float64"
      ]
     },
     "execution_count": 2,
     "metadata": {},
     "output_type": "execute_result"
    }
   ],
   "source": [
    "df['close']"
   ]
  },
  {
   "cell_type": "markdown",
   "id": "9c18343f",
   "metadata": {},
   "source": [
    "### .shift()"
   ]
  },
  {
   "cell_type": "code",
   "execution_count": 3,
   "id": "cde0e5b1",
   "metadata": {},
   "outputs": [
    {
     "data": {
      "text/plain": [
       "date\n",
       "2018-01-02         NaN\n",
       "2018-01-03     598.409\n",
       "2018-01-04     610.419\n",
       "2018-01-05     631.629\n",
       "2018-01-08     632.919\n",
       "                ...   \n",
       "2023-06-21    1743.460\n",
       "2023-06-26    1735.830\n",
       "2023-06-27    1709.000\n",
       "2023-06-28    1711.050\n",
       "2023-06-29    1728.380\n",
       "Name: close, Length: 1332, dtype: float64"
      ]
     },
     "execution_count": 3,
     "metadata": {},
     "output_type": "execute_result"
    }
   ],
   "source": [
    "df['close'].shift(1)"
   ]
  },
  {
   "cell_type": "code",
   "execution_count": 4,
   "id": "04a9bcef",
   "metadata": {},
   "outputs": [
    {
     "data": {
      "text/plain": [
       "Index(['2018-02-05', '2018-02-06', '2018-02-09', '2018-03-23', '2018-03-28',\n",
       "       '2018-07-11', '2018-10-08', '2018-10-11', '2018-10-24', '2018-10-25',\n",
       "       '2018-10-29', '2018-10-30', '2018-12-10', '2019-05-06', '2019-05-08',\n",
       "       '2019-07-15', '2019-10-16', '2020-01-02', '2020-02-03', '2020-03-13',\n",
       "       '2020-03-23', '2020-10-26', '2021-02-26', '2021-03-04', '2021-04-28',\n",
       "       '2021-08-20', '2021-11-01', '2022-03-14', '2022-03-15', '2022-03-28',\n",
       "       '2022-10-13', '2022-10-24', '2022-11-28', '2023-02-06'],\n",
       "      dtype='object', name='date')"
      ]
     },
     "execution_count": 4,
     "metadata": {},
     "output_type": "execute_result"
    }
   ],
   "source": [
    "df.loc[(df['open'] - df['close'].shift(1))/df['close'].shift(1) < -0.02].index"
   ]
  }
 ],
 "metadata": {
  "kernelspec": {
   "display_name": "Python 3 (ipykernel)",
   "language": "python",
   "name": "python3"
  },
  "language_info": {
   "codemirror_mode": {
    "name": "ipython",
    "version": 3
   },
   "file_extension": ".py",
   "mimetype": "text/x-python",
   "name": "python",
   "nbconvert_exporter": "python",
   "pygments_lexer": "ipython3",
   "version": "3.10.9"
  }
 },
 "nbformat": 4,
 "nbformat_minor": 5
}
