{
 "cells": [
  {
   "cell_type": "markdown",
   "id": "f8b25d49",
   "metadata": {},
   "source": [
    "## Les fonctions on va apprendre:\n",
    "- pandas.concat([s1,s2])\n",
    "- df.sort_index()"
   ]
  },
  {
   "cell_type": "markdown",
   "id": "c35d5009",
   "metadata": {},
   "source": [
    "#### Si je commence à partir du 1er janvier 2020, avec un capital initial de 100 000, que j'achète le plus possible de croix dorées et que je vends toutes les croix mortes, quel sera mon revenu de négociation d'actions jusqu'à aujourd'hui ?"
   ]
  },
  {
   "cell_type": "code",
   "execution_count": 6,
   "id": "145d52bb",
   "metadata": {},
   "outputs": [
    {
     "data": {
      "text/html": [
       "<div>\n",
       "<style scoped>\n",
       "    .dataframe tbody tr th:only-of-type {\n",
       "        vertical-align: middle;\n",
       "    }\n",
       "\n",
       "    .dataframe tbody tr th {\n",
       "        vertical-align: top;\n",
       "    }\n",
       "\n",
       "    .dataframe thead th {\n",
       "        text-align: right;\n",
       "    }\n",
       "</style>\n",
       "<table border=\"1\" class=\"dataframe\">\n",
       "  <thead>\n",
       "    <tr style=\"text-align: right;\">\n",
       "      <th></th>\n",
       "      <th>open</th>\n",
       "      <th>close</th>\n",
       "      <th>high</th>\n",
       "      <th>low</th>\n",
       "      <th>volume</th>\n",
       "      <th>code</th>\n",
       "    </tr>\n",
       "    <tr>\n",
       "      <th>date</th>\n",
       "      <th></th>\n",
       "      <th></th>\n",
       "      <th></th>\n",
       "      <th></th>\n",
       "      <th></th>\n",
       "      <th></th>\n",
       "    </tr>\n",
       "  </thead>\n",
       "  <tbody>\n",
       "    <tr>\n",
       "      <th>2018-01-02</th>\n",
       "      <td>594.559</td>\n",
       "      <td>598.409</td>\n",
       "      <td>604.719</td>\n",
       "      <td>584.449</td>\n",
       "      <td>49612.0</td>\n",
       "      <td>600519</td>\n",
       "    </tr>\n",
       "    <tr>\n",
       "      <th>2018-01-03</th>\n",
       "      <td>596.059</td>\n",
       "      <td>610.419</td>\n",
       "      <td>615.959</td>\n",
       "      <td>594.299</td>\n",
       "      <td>52019.0</td>\n",
       "      <td>600519</td>\n",
       "    </tr>\n",
       "    <tr>\n",
       "      <th>2018-01-04</th>\n",
       "      <td>615.959</td>\n",
       "      <td>631.629</td>\n",
       "      <td>638.059</td>\n",
       "      <td>613.889</td>\n",
       "      <td>72205.0</td>\n",
       "      <td>600519</td>\n",
       "    </tr>\n",
       "    <tr>\n",
       "      <th>2018-01-05</th>\n",
       "      <td>635.559</td>\n",
       "      <td>632.919</td>\n",
       "      <td>640.589</td>\n",
       "      <td>622.779</td>\n",
       "      <td>39989.0</td>\n",
       "      <td>600519</td>\n",
       "    </tr>\n",
       "    <tr>\n",
       "      <th>2018-01-08</th>\n",
       "      <td>629.579</td>\n",
       "      <td>646.689</td>\n",
       "      <td>651.059</td>\n",
       "      <td>629.579</td>\n",
       "      <td>52204.0</td>\n",
       "      <td>600519</td>\n",
       "    </tr>\n",
       "    <tr>\n",
       "      <th>...</th>\n",
       "      <td>...</td>\n",
       "      <td>...</td>\n",
       "      <td>...</td>\n",
       "      <td>...</td>\n",
       "      <td>...</td>\n",
       "      <td>...</td>\n",
       "    </tr>\n",
       "    <tr>\n",
       "      <th>2023-06-21</th>\n",
       "      <td>1740.000</td>\n",
       "      <td>1735.830</td>\n",
       "      <td>1756.600</td>\n",
       "      <td>1735.000</td>\n",
       "      <td>17721.0</td>\n",
       "      <td>600519</td>\n",
       "    </tr>\n",
       "    <tr>\n",
       "      <th>2023-06-26</th>\n",
       "      <td>1720.110</td>\n",
       "      <td>1709.000</td>\n",
       "      <td>1730.000</td>\n",
       "      <td>1695.000</td>\n",
       "      <td>23993.0</td>\n",
       "      <td>600519</td>\n",
       "    </tr>\n",
       "    <tr>\n",
       "      <th>2023-06-27</th>\n",
       "      <td>1709.990</td>\n",
       "      <td>1711.050</td>\n",
       "      <td>1719.700</td>\n",
       "      <td>1700.090</td>\n",
       "      <td>15174.0</td>\n",
       "      <td>600519</td>\n",
       "    </tr>\n",
       "    <tr>\n",
       "      <th>2023-06-28</th>\n",
       "      <td>1713.180</td>\n",
       "      <td>1728.380</td>\n",
       "      <td>1734.000</td>\n",
       "      <td>1711.000</td>\n",
       "      <td>18574.0</td>\n",
       "      <td>600519</td>\n",
       "    </tr>\n",
       "    <tr>\n",
       "      <th>2023-06-29</th>\n",
       "      <td>1731.000</td>\n",
       "      <td>1713.710</td>\n",
       "      <td>1734.990</td>\n",
       "      <td>1713.010</td>\n",
       "      <td>14231.0</td>\n",
       "      <td>600519</td>\n",
       "    </tr>\n",
       "  </tbody>\n",
       "</table>\n",
       "<p>1332 rows × 6 columns</p>\n",
       "</div>"
      ],
      "text/plain": [
       "                open     close      high       low   volume    code\n",
       "date                                                               \n",
       "2018-01-02   594.559   598.409   604.719   584.449  49612.0  600519\n",
       "2018-01-03   596.059   610.419   615.959   594.299  52019.0  600519\n",
       "2018-01-04   615.959   631.629   638.059   613.889  72205.0  600519\n",
       "2018-01-05   635.559   632.919   640.589   622.779  39989.0  600519\n",
       "2018-01-08   629.579   646.689   651.059   629.579  52204.0  600519\n",
       "...              ...       ...       ...       ...      ...     ...\n",
       "2023-06-21  1740.000  1735.830  1756.600  1735.000  17721.0  600519\n",
       "2023-06-26  1720.110  1709.000  1730.000  1695.000  23993.0  600519\n",
       "2023-06-27  1709.990  1711.050  1719.700  1700.090  15174.0  600519\n",
       "2023-06-28  1713.180  1728.380  1734.000  1711.000  18574.0  600519\n",
       "2023-06-29  1731.000  1713.710  1734.990  1713.010  14231.0  600519\n",
       "\n",
       "[1332 rows x 6 columns]"
      ]
     },
     "execution_count": 6,
     "metadata": {},
     "output_type": "execute_result"
    }
   ],
   "source": [
    "import numpy as np\n",
    "import pandas as pd\n",
    "import matplotlib.pyplot as plt\n",
    "from pandas import Series, DataFrame\n",
    "df = pd.read_csv(\"action600519.csv\")\n",
    "df.set_index('date',inplace = True)\n",
    "df.drop(labels = 'Unnamed: 0', axis = 1,inplace = True)\n",
    "df\n"
   ]
  },
  {
   "cell_type": "code",
   "execution_count": 7,
   "id": "8eedff09",
   "metadata": {},
   "outputs": [
    {
     "data": {
      "text/plain": [
       "Index(['2018-03-27', '2018-06-28', '2018-07-23', '2018-07-31', '2018-10-15',\n",
       "       '2018-12-25', '2019-05-10', '2019-07-22', '2019-11-28', '2020-01-03',\n",
       "       '2020-02-28', '2020-03-18', '2020-08-10', '2020-09-21', '2020-10-27',\n",
       "       '2021-03-01', '2021-04-15', '2021-05-06', '2021-06-22', '2021-11-04',\n",
       "       '2022-01-06', '2022-05-13', '2022-07-21', '2022-10-10', '2023-02-08',\n",
       "       '2023-02-23', '2023-04-12'],\n",
       "      dtype='object', name='date')"
      ]
     },
     "execution_count": 7,
     "metadata": {},
     "output_type": "execute_result"
    }
   ],
   "source": [
    "ma5 = df['close'].rolling(5).mean()\n",
    "ma30 = df['close'].rolling(30).mean()\n",
    "ma5 = ma5[30:]\n",
    "ma30 = ma30[30:]\n",
    "s1 = ma30 > ma5 \n",
    "s2 = ma30 < ma5 \n",
    "df = df[30:]\n",
    "_mort = s1 & s2.shift(1)\n",
    "croix_mort = df.loc[_mort]\n",
    "date_mort = croix_mort.index\n",
    "date_mort"
   ]
  },
  {
   "cell_type": "code",
   "execution_count": 8,
   "id": "91dde1b9",
   "metadata": {
    "scrolled": true
   },
   "outputs": [
    {
     "data": {
      "text/plain": [
       "Index(['2018-03-16', '2018-05-09', '2018-07-18', '2018-07-25', '2018-09-20',\n",
       "       '2018-12-04', '2019-01-03', '2019-06-14', '2019-08-13', '2020-01-02',\n",
       "       '2020-02-19', '2020-03-03', '2020-04-02', '2020-08-19', '2020-10-14',\n",
       "       '2020-11-05', '2021-04-02', '2021-04-16', '2021-05-20', '2021-09-16',\n",
       "       '2021-11-23', '2022-04-07', '2022-06-02', '2022-09-29', '2022-11-18',\n",
       "       '2023-02-14', '2023-03-31', '2023-06-15'],\n",
       "      dtype='object', name='date')"
      ]
     },
     "execution_count": 8,
     "metadata": {},
     "output_type": "execute_result"
    }
   ],
   "source": [
    "_or = ~(s1|s2.shift(1))\n",
    "croix_or = df.loc[_or]\n",
    "date_or = croix_or.index\n",
    "date_or"
   ]
  },
  {
   "cell_type": "markdown",
   "id": "8caed501",
   "metadata": {},
   "source": [
    "#### Analysation\n",
    "- Le prix unitaire d'achat et de vente d'actions utilise le cours d'ouverture\n",
    "- Moment de l'achat et de la vente d'actions : acheter quand la croix d'or, vendre quand la croix de la mort\n",
    "- En fin de compte, il restera des stocks entre les mains qui n'ont pas été vendus:\n",
    "    Le prix unitaire des actions restantes est le cours de clôture du dernier jour"
   ]
  },
  {
   "cell_type": "code",
   "execution_count": 10,
   "id": "6cfad4fd",
   "metadata": {},
   "outputs": [
    {
     "data": {
      "text/plain": [
       "date\n",
       "2018-03-16    1\n",
       "2018-05-09    1\n",
       "2018-07-18    1\n",
       "2018-07-25    1\n",
       "2018-09-20    1\n",
       "2018-12-04    1\n",
       "2019-01-03    1\n",
       "2019-06-14    1\n",
       "2019-08-13    1\n",
       "2020-01-02    1\n",
       "2020-02-19    1\n",
       "2020-03-03    1\n",
       "2020-04-02    1\n",
       "2020-08-19    1\n",
       "2020-10-14    1\n",
       "2020-11-05    1\n",
       "2021-04-02    1\n",
       "2021-04-16    1\n",
       "2021-05-20    1\n",
       "2021-09-16    1\n",
       "2021-11-23    1\n",
       "2022-04-07    1\n",
       "2022-06-02    1\n",
       "2022-09-29    1\n",
       "2022-11-18    1\n",
       "2023-02-14    1\n",
       "2023-03-31    1\n",
       "2023-06-15    1\n",
       "dtype: int64"
      ]
     },
     "execution_count": 10,
     "metadata": {},
     "output_type": "execute_result"
    }
   ],
   "source": [
    "s1 = Series(data = 1,index = date_or) # 1 symbole de la croix d'or\n",
    "s1"
   ]
  },
  {
   "cell_type": "code",
   "execution_count": 12,
   "id": "703ab758",
   "metadata": {},
   "outputs": [
    {
     "data": {
      "text/plain": [
       "date\n",
       "2018-03-27    0\n",
       "2018-06-28    0\n",
       "2018-07-23    0\n",
       "2018-07-31    0\n",
       "2018-10-15    0\n",
       "2018-12-25    0\n",
       "2019-05-10    0\n",
       "2019-07-22    0\n",
       "2019-11-28    0\n",
       "2020-01-03    0\n",
       "2020-02-28    0\n",
       "2020-03-18    0\n",
       "2020-08-10    0\n",
       "2020-09-21    0\n",
       "2020-10-27    0\n",
       "2021-03-01    0\n",
       "2021-04-15    0\n",
       "2021-05-06    0\n",
       "2021-06-22    0\n",
       "2021-11-04    0\n",
       "2022-01-06    0\n",
       "2022-05-13    0\n",
       "2022-07-21    0\n",
       "2022-10-10    0\n",
       "2023-02-08    0\n",
       "2023-02-23    0\n",
       "2023-04-12    0\n",
       "dtype: int64"
      ]
     },
     "execution_count": 12,
     "metadata": {},
     "output_type": "execute_result"
    }
   ],
   "source": [
    "s2 = Series(data = 0, index = date_mort) # 0 symbole de la croix de la mort\n",
    "s2"
   ]
  },
  {
   "cell_type": "code",
   "execution_count": 22,
   "id": "2f0ad7e3",
   "metadata": {},
   "outputs": [
    {
     "data": {
      "text/plain": [
       "date\n",
       "2018-03-16    1\n",
       "2018-03-27    0\n",
       "2018-05-09    1\n",
       "2018-06-28    0\n",
       "2018-07-18    1\n",
       "2018-07-23    0\n",
       "2018-07-25    1\n",
       "2018-07-31    0\n",
       "2018-09-20    1\n",
       "2018-10-15    0\n",
       "2018-12-04    1\n",
       "2018-12-25    0\n",
       "2019-01-03    1\n",
       "2019-05-10    0\n",
       "2019-06-14    1\n",
       "2019-07-22    0\n",
       "2019-08-13    1\n",
       "2019-11-28    0\n",
       "2020-01-02    1\n",
       "2020-01-03    0\n",
       "2020-02-19    1\n",
       "2020-02-28    0\n",
       "2020-03-03    1\n",
       "2020-03-18    0\n",
       "2020-04-02    1\n",
       "2020-08-10    0\n",
       "2020-08-19    1\n",
       "2020-09-21    0\n",
       "2020-10-14    1\n",
       "2020-10-27    0\n",
       "2020-11-05    1\n",
       "2021-03-01    0\n",
       "2021-04-02    1\n",
       "2021-04-15    0\n",
       "2021-04-16    1\n",
       "2021-05-06    0\n",
       "2021-05-20    1\n",
       "2021-06-22    0\n",
       "2021-09-16    1\n",
       "2021-11-04    0\n",
       "2021-11-23    1\n",
       "2022-01-06    0\n",
       "2022-04-07    1\n",
       "2022-05-13    0\n",
       "2022-06-02    1\n",
       "2022-07-21    0\n",
       "2022-09-29    1\n",
       "2022-10-10    0\n",
       "2022-11-18    1\n",
       "2023-02-08    0\n",
       "2023-02-14    1\n",
       "2023-02-23    0\n",
       "2023-03-31    1\n",
       "2023-04-12    0\n",
       "2023-06-15    1\n",
       "dtype: int64"
      ]
     },
     "execution_count": 22,
     "metadata": {},
     "output_type": "execute_result"
    }
   ],
   "source": [
    "s = pd.concat([s1,s2])\n",
    "s = s.sort_index()\n",
    "s"
   ]
  },
  {
   "cell_type": "code",
   "execution_count": 48,
   "id": "5380956c",
   "metadata": {},
   "outputs": [],
   "source": [
    "first_money = 100000 # Constante\n",
    "money = first_money # Variable\n",
    "hold = 0 # Nombre d'actions détenues\n",
    "df = df['2020-01':]\n",
    "s = s['2020-01':]\n",
    "\n",
    "for i in range(len(s)): # i -> index\n",
    "    if s[i] == 1: # croix d'or --> acheter\n",
    "        time = s.index[i]\n",
    "        unité = df.loc[time]['open']\n",
    "        hold = money // unité\n",
    "        money -= hold * unité\n",
    "    if s[i] == 0: # croix de la mort --> vendre\n",
    "        time = s.index[i]\n",
    "        unité = df.loc[time]['open']\n",
    "        money += hold* unité\n",
    "        hold = 0\n",
    "        \n",
    "money += df['close'][-1] * hold"
   ]
  },
  {
   "cell_type": "code",
   "execution_count": 49,
   "id": "14e744f0",
   "metadata": {},
   "outputs": [
    {
     "data": {
      "text/plain": [
       "142551.095"
      ]
     },
     "execution_count": 49,
     "metadata": {},
     "output_type": "execute_result"
    }
   ],
   "source": [
    "reward = money - first_money\n",
    "reward"
   ]
  }
 ],
 "metadata": {
  "kernelspec": {
   "display_name": "Python 3 (ipykernel)",
   "language": "python",
   "name": "python3"
  },
  "language_info": {
   "codemirror_mode": {
    "name": "ipython",
    "version": 3
   },
   "file_extension": ".py",
   "mimetype": "text/x-python",
   "name": "python",
   "nbconvert_exporter": "python",
   "pygments_lexer": "ipython3",
   "version": "3.10.9"
  }
 },
 "nbformat": 4,
 "nbformat_minor": 5
}
