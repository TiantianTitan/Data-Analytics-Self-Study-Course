{
 "cells": [
  {
   "cell_type": "markdown",
   "id": "c8722f01",
   "metadata": {},
   "source": [
    "## Les fonctions on va apprendre:\n",
    "- df.rolling(n).mean()\n",
    "- plt.plot()"
   ]
  },
  {
   "cell_type": "markdown",
   "id": "cc317665",
   "metadata": {},
   "source": [
    "### Exigences : formulation d'une stratégie de moyenne mobile double"
   ]
  },
  {
   "cell_type": "markdown",
   "id": "e4d2e2f7",
   "metadata": {},
   "source": [
    " - Utilisez le package tushare pour obtenir les données historiques du marché d'une action"
   ]
  },
  {
   "cell_type": "code",
   "execution_count": 1,
   "id": "e80740d8",
   "metadata": {},
   "outputs": [
    {
     "name": "stdout",
     "output_type": "stream",
     "text": [
      "本接口即将停止更新，请尽快使用Pro版接口：https://tushare.pro/document/2\n"
     ]
    },
    {
     "name": "stderr",
     "output_type": "stream",
     "text": [
      "/home/haotian/anaconda3/lib/python3.10/site-packages/tushare/stock/trading.py:706: FutureWarning: The frame.append method is deprecated and will be removed from pandas in a future version. Use pandas.concat instead.\n",
      "  data = data.append(_get_k_data(url, dataflag,\n",
      "/home/haotian/anaconda3/lib/python3.10/site-packages/tushare/stock/trading.py:706: FutureWarning: The frame.append method is deprecated and will be removed from pandas in a future version. Use pandas.concat instead.\n",
      "  data = data.append(_get_k_data(url, dataflag,\n",
      "/home/haotian/anaconda3/lib/python3.10/site-packages/tushare/stock/trading.py:706: FutureWarning: The frame.append method is deprecated and will be removed from pandas in a future version. Use pandas.concat instead.\n",
      "  data = data.append(_get_k_data(url, dataflag,\n"
     ]
    },
    {
     "data": {
      "text/html": [
       "<div>\n",
       "<style scoped>\n",
       "    .dataframe tbody tr th:only-of-type {\n",
       "        vertical-align: middle;\n",
       "    }\n",
       "\n",
       "    .dataframe tbody tr th {\n",
       "        vertical-align: top;\n",
       "    }\n",
       "\n",
       "    .dataframe thead th {\n",
       "        text-align: right;\n",
       "    }\n",
       "</style>\n",
       "<table border=\"1\" class=\"dataframe\">\n",
       "  <thead>\n",
       "    <tr style=\"text-align: right;\">\n",
       "      <th></th>\n",
       "      <th>date</th>\n",
       "      <th>open</th>\n",
       "      <th>close</th>\n",
       "      <th>high</th>\n",
       "      <th>low</th>\n",
       "      <th>volume</th>\n",
       "      <th>code</th>\n",
       "    </tr>\n",
       "  </thead>\n",
       "  <tbody>\n",
       "    <tr>\n",
       "      <th>0</th>\n",
       "      <td>2018-01-02</td>\n",
       "      <td>594.559</td>\n",
       "      <td>598.409</td>\n",
       "      <td>604.719</td>\n",
       "      <td>584.449</td>\n",
       "      <td>49612.0</td>\n",
       "      <td>600519</td>\n",
       "    </tr>\n",
       "    <tr>\n",
       "      <th>1</th>\n",
       "      <td>2018-01-03</td>\n",
       "      <td>596.059</td>\n",
       "      <td>610.419</td>\n",
       "      <td>615.959</td>\n",
       "      <td>594.299</td>\n",
       "      <td>52019.0</td>\n",
       "      <td>600519</td>\n",
       "    </tr>\n",
       "    <tr>\n",
       "      <th>2</th>\n",
       "      <td>2018-01-04</td>\n",
       "      <td>615.959</td>\n",
       "      <td>631.629</td>\n",
       "      <td>638.059</td>\n",
       "      <td>613.889</td>\n",
       "      <td>72205.0</td>\n",
       "      <td>600519</td>\n",
       "    </tr>\n",
       "    <tr>\n",
       "      <th>3</th>\n",
       "      <td>2018-01-05</td>\n",
       "      <td>635.559</td>\n",
       "      <td>632.919</td>\n",
       "      <td>640.589</td>\n",
       "      <td>622.779</td>\n",
       "      <td>39989.0</td>\n",
       "      <td>600519</td>\n",
       "    </tr>\n",
       "    <tr>\n",
       "      <th>4</th>\n",
       "      <td>2018-01-08</td>\n",
       "      <td>629.579</td>\n",
       "      <td>646.689</td>\n",
       "      <td>651.059</td>\n",
       "      <td>629.579</td>\n",
       "      <td>52204.0</td>\n",
       "      <td>600519</td>\n",
       "    </tr>\n",
       "    <tr>\n",
       "      <th>...</th>\n",
       "      <td>...</td>\n",
       "      <td>...</td>\n",
       "      <td>...</td>\n",
       "      <td>...</td>\n",
       "      <td>...</td>\n",
       "      <td>...</td>\n",
       "      <td>...</td>\n",
       "    </tr>\n",
       "    <tr>\n",
       "      <th>1327</th>\n",
       "      <td>2023-06-21</td>\n",
       "      <td>1740.000</td>\n",
       "      <td>1735.830</td>\n",
       "      <td>1756.600</td>\n",
       "      <td>1735.000</td>\n",
       "      <td>17721.0</td>\n",
       "      <td>600519</td>\n",
       "    </tr>\n",
       "    <tr>\n",
       "      <th>1328</th>\n",
       "      <td>2023-06-26</td>\n",
       "      <td>1720.110</td>\n",
       "      <td>1709.000</td>\n",
       "      <td>1730.000</td>\n",
       "      <td>1695.000</td>\n",
       "      <td>23993.0</td>\n",
       "      <td>600519</td>\n",
       "    </tr>\n",
       "    <tr>\n",
       "      <th>1329</th>\n",
       "      <td>2023-06-27</td>\n",
       "      <td>1709.990</td>\n",
       "      <td>1711.050</td>\n",
       "      <td>1719.700</td>\n",
       "      <td>1700.090</td>\n",
       "      <td>15174.0</td>\n",
       "      <td>600519</td>\n",
       "    </tr>\n",
       "    <tr>\n",
       "      <th>1330</th>\n",
       "      <td>2023-06-28</td>\n",
       "      <td>1713.180</td>\n",
       "      <td>1728.380</td>\n",
       "      <td>1734.000</td>\n",
       "      <td>1711.000</td>\n",
       "      <td>18574.0</td>\n",
       "      <td>600519</td>\n",
       "    </tr>\n",
       "    <tr>\n",
       "      <th>1331</th>\n",
       "      <td>2023-06-29</td>\n",
       "      <td>1731.000</td>\n",
       "      <td>1713.710</td>\n",
       "      <td>1734.990</td>\n",
       "      <td>1713.010</td>\n",
       "      <td>14231.0</td>\n",
       "      <td>600519</td>\n",
       "    </tr>\n",
       "  </tbody>\n",
       "</table>\n",
       "<p>1332 rows × 7 columns</p>\n",
       "</div>"
      ],
      "text/plain": [
       "            date      open     close      high       low   volume    code\n",
       "0     2018-01-02   594.559   598.409   604.719   584.449  49612.0  600519\n",
       "1     2018-01-03   596.059   610.419   615.959   594.299  52019.0  600519\n",
       "2     2018-01-04   615.959   631.629   638.059   613.889  72205.0  600519\n",
       "3     2018-01-05   635.559   632.919   640.589   622.779  39989.0  600519\n",
       "4     2018-01-08   629.579   646.689   651.059   629.579  52204.0  600519\n",
       "...          ...       ...       ...       ...       ...      ...     ...\n",
       "1327  2023-06-21  1740.000  1735.830  1756.600  1735.000  17721.0  600519\n",
       "1328  2023-06-26  1720.110  1709.000  1730.000  1695.000  23993.0  600519\n",
       "1329  2023-06-27  1709.990  1711.050  1719.700  1700.090  15174.0  600519\n",
       "1330  2023-06-28  1713.180  1728.380  1734.000  1711.000  18574.0  600519\n",
       "1331  2023-06-29  1731.000  1713.710  1734.990  1713.010  14231.0  600519\n",
       "\n",
       "[1332 rows x 7 columns]"
      ]
     },
     "execution_count": 1,
     "metadata": {},
     "output_type": "execute_result"
    }
   ],
   "source": [
    "import tushare as ts\n",
    "import numpy as np\n",
    "import pandas as pd\n",
    "df = ts.get_k_data(code = '600519',start = '2018-01-01')\n",
    "df"
   ]
  },
  {
   "cell_type": "code",
   "execution_count": 2,
   "id": "ca5c0925",
   "metadata": {},
   "outputs": [],
   "source": [
    "df.to_csv('action600519.csv')"
   ]
  },
  {
   "cell_type": "code",
   "execution_count": 3,
   "id": "03975bd0",
   "metadata": {},
   "outputs": [],
   "source": [
    "df = pd.read_csv('./action600519.csv').set_index('date').drop(labels='Unnamed: 0',axis = 1)"
   ]
  },
  {
   "cell_type": "code",
   "execution_count": 4,
   "id": "baae4ea3",
   "metadata": {},
   "outputs": [
    {
     "data": {
      "text/html": [
       "<div>\n",
       "<style scoped>\n",
       "    .dataframe tbody tr th:only-of-type {\n",
       "        vertical-align: middle;\n",
       "    }\n",
       "\n",
       "    .dataframe tbody tr th {\n",
       "        vertical-align: top;\n",
       "    }\n",
       "\n",
       "    .dataframe thead th {\n",
       "        text-align: right;\n",
       "    }\n",
       "</style>\n",
       "<table border=\"1\" class=\"dataframe\">\n",
       "  <thead>\n",
       "    <tr style=\"text-align: right;\">\n",
       "      <th></th>\n",
       "      <th>open</th>\n",
       "      <th>close</th>\n",
       "      <th>high</th>\n",
       "      <th>low</th>\n",
       "      <th>volume</th>\n",
       "      <th>code</th>\n",
       "    </tr>\n",
       "    <tr>\n",
       "      <th>date</th>\n",
       "      <th></th>\n",
       "      <th></th>\n",
       "      <th></th>\n",
       "      <th></th>\n",
       "      <th></th>\n",
       "      <th></th>\n",
       "    </tr>\n",
       "  </thead>\n",
       "  <tbody>\n",
       "    <tr>\n",
       "      <th>2018-01-02</th>\n",
       "      <td>594.559</td>\n",
       "      <td>598.409</td>\n",
       "      <td>604.719</td>\n",
       "      <td>584.449</td>\n",
       "      <td>49612.0</td>\n",
       "      <td>600519</td>\n",
       "    </tr>\n",
       "    <tr>\n",
       "      <th>2018-01-03</th>\n",
       "      <td>596.059</td>\n",
       "      <td>610.419</td>\n",
       "      <td>615.959</td>\n",
       "      <td>594.299</td>\n",
       "      <td>52019.0</td>\n",
       "      <td>600519</td>\n",
       "    </tr>\n",
       "    <tr>\n",
       "      <th>2018-01-04</th>\n",
       "      <td>615.959</td>\n",
       "      <td>631.629</td>\n",
       "      <td>638.059</td>\n",
       "      <td>613.889</td>\n",
       "      <td>72205.0</td>\n",
       "      <td>600519</td>\n",
       "    </tr>\n",
       "    <tr>\n",
       "      <th>2018-01-05</th>\n",
       "      <td>635.559</td>\n",
       "      <td>632.919</td>\n",
       "      <td>640.589</td>\n",
       "      <td>622.779</td>\n",
       "      <td>39989.0</td>\n",
       "      <td>600519</td>\n",
       "    </tr>\n",
       "    <tr>\n",
       "      <th>2018-01-08</th>\n",
       "      <td>629.579</td>\n",
       "      <td>646.689</td>\n",
       "      <td>651.059</td>\n",
       "      <td>629.579</td>\n",
       "      <td>52204.0</td>\n",
       "      <td>600519</td>\n",
       "    </tr>\n",
       "    <tr>\n",
       "      <th>...</th>\n",
       "      <td>...</td>\n",
       "      <td>...</td>\n",
       "      <td>...</td>\n",
       "      <td>...</td>\n",
       "      <td>...</td>\n",
       "      <td>...</td>\n",
       "    </tr>\n",
       "    <tr>\n",
       "      <th>2023-06-21</th>\n",
       "      <td>1740.000</td>\n",
       "      <td>1735.830</td>\n",
       "      <td>1756.600</td>\n",
       "      <td>1735.000</td>\n",
       "      <td>17721.0</td>\n",
       "      <td>600519</td>\n",
       "    </tr>\n",
       "    <tr>\n",
       "      <th>2023-06-26</th>\n",
       "      <td>1720.110</td>\n",
       "      <td>1709.000</td>\n",
       "      <td>1730.000</td>\n",
       "      <td>1695.000</td>\n",
       "      <td>23993.0</td>\n",
       "      <td>600519</td>\n",
       "    </tr>\n",
       "    <tr>\n",
       "      <th>2023-06-27</th>\n",
       "      <td>1709.990</td>\n",
       "      <td>1711.050</td>\n",
       "      <td>1719.700</td>\n",
       "      <td>1700.090</td>\n",
       "      <td>15174.0</td>\n",
       "      <td>600519</td>\n",
       "    </tr>\n",
       "    <tr>\n",
       "      <th>2023-06-28</th>\n",
       "      <td>1713.180</td>\n",
       "      <td>1728.380</td>\n",
       "      <td>1734.000</td>\n",
       "      <td>1711.000</td>\n",
       "      <td>18574.0</td>\n",
       "      <td>600519</td>\n",
       "    </tr>\n",
       "    <tr>\n",
       "      <th>2023-06-29</th>\n",
       "      <td>1731.000</td>\n",
       "      <td>1713.710</td>\n",
       "      <td>1734.990</td>\n",
       "      <td>1713.010</td>\n",
       "      <td>14231.0</td>\n",
       "      <td>600519</td>\n",
       "    </tr>\n",
       "  </tbody>\n",
       "</table>\n",
       "<p>1332 rows × 6 columns</p>\n",
       "</div>"
      ],
      "text/plain": [
       "                open     close      high       low   volume    code\n",
       "date                                                               \n",
       "2018-01-02   594.559   598.409   604.719   584.449  49612.0  600519\n",
       "2018-01-03   596.059   610.419   615.959   594.299  52019.0  600519\n",
       "2018-01-04   615.959   631.629   638.059   613.889  72205.0  600519\n",
       "2018-01-05   635.559   632.919   640.589   622.779  39989.0  600519\n",
       "2018-01-08   629.579   646.689   651.059   629.579  52204.0  600519\n",
       "...              ...       ...       ...       ...      ...     ...\n",
       "2023-06-21  1740.000  1735.830  1756.600  1735.000  17721.0  600519\n",
       "2023-06-26  1720.110  1709.000  1730.000  1695.000  23993.0  600519\n",
       "2023-06-27  1709.990  1711.050  1719.700  1700.090  15174.0  600519\n",
       "2023-06-28  1713.180  1728.380  1734.000  1711.000  18574.0  600519\n",
       "2023-06-29  1731.000  1713.710  1734.990  1713.010  14231.0  600519\n",
       "\n",
       "[1332 rows x 6 columns]"
      ]
     },
     "execution_count": 4,
     "metadata": {},
     "output_type": "execute_result"
    }
   ],
   "source": [
    "df"
   ]
  },
  {
   "cell_type": "markdown",
   "id": "c22d345f",
   "metadata": {},
   "source": [
    "### Calculez la moyenne mobile sur 5 jours et la moyenne mobile sur 30 jours des données historiques de l'action.\n",
    "#### C'est quoi la moyenne mobile? \n",
    "- Pour chaque jour de bourse, la moyenne mobile des N jours précédents peut être calculée, puis ces moyennes mobiles peuvent être connectées pour former une ligne, appelée moyenne mobile de N jours. Les lignes de moyenne mobile couramment utilisées ont des indicateurs de 5 jours, 10 jours, 30 jours, 60 jours, 120 jours et 240 jours.\n",
    "- 5 jours et 10 jours sont des indicateurs de référence pour les opérations à court terme, appelés indicateurs de moyenne mobile journalière.\n",
    "- Les moyennes mobiles sur 30 et 60 jours sont des moyennes mobiles à moyen terme, appelées moyennes mobiles trimestrielles.\n",
    "- Les moyennes mobiles sur 120 et 240 jours sont des moyennes mobiles à long terme, appelées moyennes mobiles annuelles.\n",
    "- Méthode de calcul de la moyenne mobile : MA = (C1 + C2 + ...... + Cn)/N\n",
    "* C : Cours de clôture un certain jour\n",
    "* N : période moyenne mobile\n",
    "    "
   ]
  },
  {
   "cell_type": "code",
   "execution_count": 5,
   "id": "45ddbffc",
   "metadata": {},
   "outputs": [
    {
     "data": {
      "text/plain": [
       "date\n",
       "2018-01-02        NaN\n",
       "2018-01-03        NaN\n",
       "2018-01-04        NaN\n",
       "2018-01-05        NaN\n",
       "2018-01-08    624.013\n",
       "2018-01-09    639.747\n",
       "2018-01-10    653.717\n",
       "2018-01-11    661.265\n",
       "2018-01-12    671.277\n",
       "2018-01-15    677.925\n",
       "Name: close, dtype: float64"
      ]
     },
     "execution_count": 5,
     "metadata": {},
     "output_type": "execute_result"
    }
   ],
   "source": [
    "ma5 = df['close'].rolling(5).mean()\n",
    "ma5.head(10)"
   ]
  },
  {
   "cell_type": "code",
   "execution_count": 6,
   "id": "dc0bdbdb",
   "metadata": {},
   "outputs": [
    {
     "data": {
      "text/plain": [
       "date\n",
       "2018-01-02           NaN\n",
       "2018-01-03           NaN\n",
       "2018-01-04           NaN\n",
       "2018-01-05           NaN\n",
       "2018-01-08           NaN\n",
       "2018-01-09           NaN\n",
       "2018-01-10           NaN\n",
       "2018-01-11           NaN\n",
       "2018-01-12           NaN\n",
       "2018-01-15           NaN\n",
       "2018-01-16           NaN\n",
       "2018-01-17           NaN\n",
       "2018-01-18           NaN\n",
       "2018-01-19           NaN\n",
       "2018-01-22           NaN\n",
       "2018-01-23           NaN\n",
       "2018-01-24           NaN\n",
       "2018-01-25           NaN\n",
       "2018-01-26           NaN\n",
       "2018-01-29           NaN\n",
       "2018-01-30           NaN\n",
       "2018-01-31           NaN\n",
       "2018-02-01           NaN\n",
       "2018-02-02           NaN\n",
       "2018-02-05           NaN\n",
       "2018-02-06           NaN\n",
       "2018-02-07           NaN\n",
       "2018-02-08           NaN\n",
       "2018-02-09           NaN\n",
       "2018-02-12    640.480333\n",
       "Name: close, dtype: float64"
      ]
     },
     "execution_count": 6,
     "metadata": {},
     "output_type": "execute_result"
    }
   ],
   "source": [
    "ma30 = df['close'].rolling(30).mean()\n",
    "ma30.head(30)"
   ]
  },
  {
   "cell_type": "code",
   "execution_count": 7,
   "id": "0de3a859",
   "metadata": {},
   "outputs": [
    {
     "data": {
      "text/plain": [
       "[<matplotlib.lines.Line2D at 0x7fec6603dba0>]"
      ]
     },
     "execution_count": 7,
     "metadata": {},
     "output_type": "execute_result"
    },
    {
     "data": {
      "image/png": "[encoded data removed]",
      "text/plain": [
       "<Figure size 640x480 with 1 Axes>"
      ]
     },
     "metadata": {},
     "output_type": "display_data"
    }
   ],
   "source": [
    "import matplotlib.pyplot as plt\n",
    "plt.plot(ma5)\n",
    "plt.plot(ma30)"
   ]
  },
  {
   "cell_type": "code",
   "execution_count": 8,
   "id": "ce24f9af",
   "metadata": {},
   "outputs": [
    {
     "data": {
      "text/plain": [
       "[<matplotlib.lines.Line2D at 0x7fec648b3430>]"
      ]
     },
     "execution_count": 8,
     "metadata": {},
     "output_type": "execute_result"
    },
    {
     "data": {
      "image/png": "[encoded data removed]",
      "text/plain": [
       "<Figure size 640x480 with 1 Axes>"
      ]
     },
     "metadata": {},
     "output_type": "display_data"
    }
   ],
   "source": [
    "plt.plot(ma5[50:180])\n",
    "plt.plot(ma30[50:180])"
   ]
  }
 ],
 "metadata": {
  "kernelspec": {
   "display_name": "Python 3 (ipykernel)",
   "language": "python",
   "name": "python3"
  },
  "language_info": {
   "codemirror_mode": {
    "name": "ipython",
    "version": 3
   },
   "file_extension": ".py",
   "mimetype": "text/x-python",
   "name": "python",
   "nbconvert_exporter": "python",
   "pygments_lexer": "ipython3",
   "version": "3.10.9"
  }
 },
 "nbformat": 4,
 "nbformat_minor": 5
}
