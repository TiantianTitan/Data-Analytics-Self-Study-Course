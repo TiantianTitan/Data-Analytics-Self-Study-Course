{
 "cells": [
  {
   "cell_type": "markdown",
   "id": "154fdf87",
   "metadata": {},
   "source": [
    "## Les fonctions on va apprendre:\n",
    "- Series(data = )\n",
    "- dic = {\n",
    "     key : value,\n",
    "    }\n",
    "- .Langue .shape .size .index .values \n",
    "- . head() .tail() .unique() .isnull() .notnull()\n"
   ]
  },
  {
   "cell_type": "markdown",
   "id": "1bb49240",
   "metadata": {},
   "source": [
    "### Pourquoi apprendre le pandas\n",
    "Numpy peut nous aider à traiter les données numériques Bien sûr, en plus des données numériques, il existe de nombreux autres types de données (chaînes, séries chronologiques) dans l'analyse des données, donc les pandas peuvent nous aider à bien gérer les données numériques."
   ]
  },
  {
   "cell_type": "markdown",
   "id": "a34f8f7f",
   "metadata": {},
   "source": [
    "#### C'est quoi le pandas?\n",
    "Deux classes couramment utilisées : <br>\n",
    "Series <br>\n",
    "DataFrame"
   ]
  },
  {
   "cell_type": "markdown",
   "id": "e962d67c",
   "metadata": {},
   "source": [
    "#### Series\n",
    "Series× est un objet de type et de tableau à une dimension, composé des deux parties suivantes :<br>\n",
    "- valeurs : un ensemble de données (type ndarray)<br>\n",
    "- index : l'index des données associées"
   ]
  },
  {
   "cell_type": "markdown",
   "id": "52b46b22",
   "metadata": {},
   "source": [
    "La création de Series\n",
    "- Créer à partir d'une liste ou d'un tableau numpy\n",
    "- Créer à partir de la dictionnaire"
   ]
  },
  {
   "cell_type": "code",
   "execution_count": 5,
   "id": "a48b85c7",
   "metadata": {},
   "outputs": [
    {
     "data": {
      "text/plain": [
       "0       1\n",
       "1     2.2\n",
       "2       3\n",
       "3    four\n",
       "dtype: object"
      ]
     },
     "execution_count": 5,
     "metadata": {},
     "output_type": "execute_result"
    }
   ],
   "source": [
    "from pandas import Series\n",
    "Series(data=[1,2.2,3,'four'])"
   ]
  },
  {
   "cell_type": "code",
   "execution_count": 7,
   "id": "465c6b4e",
   "metadata": {},
   "outputs": [
    {
     "data": {
      "text/plain": [
       "0    42\n",
       "1    89\n",
       "2    94\n",
       "dtype: int64"
      ]
     },
     "execution_count": 7,
     "metadata": {},
     "output_type": "execute_result"
    }
   ],
   "source": [
    "import numpy as np\n",
    "Series(data=np.random.randint(0,100,size=(3,)))"
   ]
  },
  {
   "cell_type": "code",
   "execution_count": 10,
   "id": "71012fd4",
   "metadata": {},
   "outputs": [
    {
     "data": {
      "text/plain": [
       "a       1\n",
       "b     2.2\n",
       "c       3\n",
       "d    four\n",
       "dtype: object"
      ]
     },
     "execution_count": 10,
     "metadata": {},
     "output_type": "execute_result"
    }
   ],
   "source": [
    "Series(data=[1,2.2,3,'four'],index=['a','b','c','d'])"
   ]
  },
  {
   "cell_type": "markdown",
   "id": "19d644a2",
   "metadata": {},
   "source": [
    "Pourquoi y a-t-il un index d'affichage ?\n",
    "- L'indexation explicite peut améliorer la lisibilité des séries"
   ]
  },
  {
   "cell_type": "code",
   "execution_count": 11,
   "id": "baf68aa5",
   "metadata": {},
   "outputs": [],
   "source": [
    "dic = {\n",
    "    'Langue' : 100,\n",
    "    'Math' : 99,\n",
    "    'Science' : 250\n",
    "}"
   ]
  },
  {
   "cell_type": "code",
   "execution_count": 12,
   "id": "2369c89d",
   "metadata": {},
   "outputs": [
    {
     "data": {
      "text/plain": [
       "Langue     100\n",
       "Math        99\n",
       "Science    250\n",
       "dtype: int64"
      ]
     },
     "execution_count": 12,
     "metadata": {},
     "output_type": "execute_result"
    }
   ],
   "source": [
    "s = Series(data= dic)\n",
    "s"
   ]
  },
  {
   "cell_type": "markdown",
   "id": "903499e3",
   "metadata": {},
   "source": [
    "#### Indexation et découpage des séries"
   ]
  },
  {
   "cell_type": "code",
   "execution_count": 13,
   "id": "4be6376a",
   "metadata": {},
   "outputs": [
    {
     "data": {
      "text/plain": [
       "100"
      ]
     },
     "execution_count": 13,
     "metadata": {},
     "output_type": "execute_result"
    }
   ],
   "source": [
    "s.Langue"
   ]
  },
  {
   "cell_type": "code",
   "execution_count": 14,
   "id": "3dab3e2d",
   "metadata": {
    "scrolled": true
   },
   "outputs": [
    {
     "data": {
      "text/plain": [
       "Langue    100\n",
       "Math       99\n",
       "dtype: int64"
      ]
     },
     "execution_count": 14,
     "metadata": {},
     "output_type": "execute_result"
    }
   ],
   "source": [
    "s[0:2]"
   ]
  },
  {
   "cell_type": "markdown",
   "id": "ea2f7e78",
   "metadata": {},
   "source": [
    "#### Propriétés communes de la série :"
   ]
  },
  {
   "cell_type": "code",
   "execution_count": 15,
   "id": "50977487",
   "metadata": {},
   "outputs": [
    {
     "data": {
      "text/plain": [
       "(3,)"
      ]
     },
     "execution_count": 15,
     "metadata": {},
     "output_type": "execute_result"
    }
   ],
   "source": [
    "s.shape"
   ]
  },
  {
   "cell_type": "code",
   "execution_count": 16,
   "id": "24eb1f63",
   "metadata": {},
   "outputs": [
    {
     "data": {
      "text/plain": [
       "3"
      ]
     },
     "execution_count": 16,
     "metadata": {},
     "output_type": "execute_result"
    }
   ],
   "source": [
    "s.size"
   ]
  },
  {
   "cell_type": "code",
   "execution_count": 17,
   "id": "a4fd703e",
   "metadata": {},
   "outputs": [
    {
     "data": {
      "text/plain": [
       "Index(['Langue', 'Math', 'Science'], dtype='object')"
      ]
     },
     "execution_count": 17,
     "metadata": {},
     "output_type": "execute_result"
    }
   ],
   "source": [
    "s.index"
   ]
  },
  {
   "cell_type": "code",
   "execution_count": 18,
   "id": "75fc717d",
   "metadata": {},
   "outputs": [
    {
     "data": {
      "text/plain": [
       "array([100,  99, 250])"
      ]
     },
     "execution_count": 18,
     "metadata": {},
     "output_type": "execute_result"
    }
   ],
   "source": [
    "s.values"
   ]
  },
  {
   "cell_type": "code",
   "execution_count": 19,
   "id": "c385bca9",
   "metadata": {},
   "outputs": [
    {
     "data": {
      "text/plain": [
       "dtype('int64')"
      ]
     },
     "execution_count": 19,
     "metadata": {},
     "output_type": "execute_result"
    }
   ],
   "source": [
    "s.dtype"
   ]
  },
  {
   "cell_type": "markdown",
   "id": "dd0fb1aa",
   "metadata": {},
   "source": [
    "#### Méthodes courantes pour les séries :\n",
    "- head(),tail()\n",
    "- unique()\n",
    "- isnull(),notnull()\n",
    "- add(),sub(),mul(),div()\n"
   ]
  },
  {
   "cell_type": "code",
   "execution_count": 23,
   "id": "49abea01",
   "metadata": {},
   "outputs": [
    {
     "data": {
      "text/plain": [
       "0    72\n",
       "1    84\n",
       "2    67\n",
       "3    82\n",
       "4    92\n",
       "5    63\n",
       "6    83\n",
       "7    67\n",
       "8    78\n",
       "9    95\n",
       "dtype: int64"
      ]
     },
     "execution_count": 23,
     "metadata": {},
     "output_type": "execute_result"
    }
   ],
   "source": [
    "s = Series(np.random.randint(60,100,size=(10,)))\n",
    "s"
   ]
  },
  {
   "cell_type": "code",
   "execution_count": 24,
   "id": "1411e0a1",
   "metadata": {},
   "outputs": [
    {
     "data": {
      "text/plain": [
       "0    72\n",
       "1    84\n",
       "2    67\n",
       "3    82\n",
       "4    92\n",
       "dtype: int64"
      ]
     },
     "execution_count": 24,
     "metadata": {},
     "output_type": "execute_result"
    }
   ],
   "source": [
    "s.head() # n = 5"
   ]
  },
  {
   "cell_type": "code",
   "execution_count": 25,
   "id": "6cefda55",
   "metadata": {},
   "outputs": [
    {
     "data": {
      "text/plain": [
       "0    72\n",
       "1    84\n",
       "2    67\n",
       "dtype: int64"
      ]
     },
     "execution_count": 25,
     "metadata": {},
     "output_type": "execute_result"
    }
   ],
   "source": [
    "s.head(3)"
   ]
  },
  {
   "cell_type": "code",
   "execution_count": 26,
   "id": "1b8af94a",
   "metadata": {},
   "outputs": [
    {
     "data": {
      "text/plain": [
       "array([72, 84, 67, 82, 92, 63, 83, 78, 95])"
      ]
     },
     "execution_count": 26,
     "metadata": {},
     "output_type": "execute_result"
    }
   ],
   "source": [
    "s.unique() # Déduplication"
   ]
  },
  {
   "cell_type": "code",
   "execution_count": 27,
   "id": "81079b93",
   "metadata": {},
   "outputs": [
    {
     "data": {
      "text/plain": [
       "0    False\n",
       "1    False\n",
       "2    False\n",
       "3    False\n",
       "4    False\n",
       "5    False\n",
       "6    False\n",
       "7    False\n",
       "8    False\n",
       "9    False\n",
       "dtype: bool"
      ]
     },
     "execution_count": 27,
     "metadata": {},
     "output_type": "execute_result"
    }
   ],
   "source": [
    "s.isnull() # Vérifier si chaque élément est vide"
   ]
  },
  {
   "cell_type": "code",
   "execution_count": 28,
   "id": "d23c4f1c",
   "metadata": {},
   "outputs": [
    {
     "data": {
      "text/plain": [
       "0    True\n",
       "1    True\n",
       "2    True\n",
       "3    True\n",
       "4    True\n",
       "5    True\n",
       "6    True\n",
       "7    True\n",
       "8    True\n",
       "9    True\n",
       "dtype: bool"
      ]
     },
     "execution_count": 28,
     "metadata": {},
     "output_type": "execute_result"
    }
   ],
   "source": [
    "s.notnull()"
   ]
  },
  {
   "cell_type": "code",
   "execution_count": 32,
   "id": "53e2fca1",
   "metadata": {
    "scrolled": true
   },
   "outputs": [
    {
     "data": {
      "text/plain": [
       "a    2.0\n",
       "b    NaN\n",
       "c    6.0\n",
       "d    NaN\n",
       "dtype: float64"
      ]
     },
     "execution_count": 32,
     "metadata": {},
     "output_type": "execute_result"
    }
   ],
   "source": [
    "s1 = Series(data=[1,2,3],index = ['a','b','c'])\n",
    "s2 = Series(data=[1,2,3],index = ['a','d','c'])\n",
    "s = s1+s2 # Effectuez des opérations arithmétiques sur des éléments avec des index cohérents, sinon remplissez null\n",
    "s"
   ]
  },
  {
   "cell_type": "code",
   "execution_count": 31,
   "id": "eaf6f494",
   "metadata": {},
   "outputs": [
    {
     "data": {
      "text/plain": [
       "a    False\n",
       "b     True\n",
       "c    False\n",
       "d     True\n",
       "dtype: bool"
      ]
     },
     "execution_count": 31,
     "metadata": {},
     "output_type": "execute_result"
    }
   ],
   "source": [
    "s.isnull()"
   ]
  }
 ],
 "metadata": {
  "kernelspec": {
   "display_name": "Python 3 (ipykernel)",
   "language": "python",
   "name": "python3"
  },
  "language_info": {
   "codemirror_mode": {
    "name": "ipython",
    "version": 3
   },
   "file_extension": ".py",
   "mimetype": "text/x-python",
   "name": "python",
   "nbconvert_exporter": "python",
   "pygments_lexer": "ipython3",
   "version": "3.10.9"
  }
 },
 "nbformat": 4,
 "nbformat_minor": 5
}
