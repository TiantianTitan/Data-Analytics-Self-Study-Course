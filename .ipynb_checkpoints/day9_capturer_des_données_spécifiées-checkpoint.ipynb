{
 "cells": [
  {
   "cell_type": "markdown",
   "id": "a6888f49",
   "metadata": {},
   "source": [
    "### capturer_la_date_à_laquelle_l'action_a_augmenté"
   ]
  },
  {
   "cell_type": "markdown",
   "id": "d42ab884",
   "metadata": {},
   "source": [
    "- Sortie de toutes les dates auxquelles l'action a clôturé plus de 3 % de plus que l'ouverture"
   ]
  },
  {
   "cell_type": "code",
   "execution_count": 1,
   "id": "c1da247b",
   "metadata": {},
   "outputs": [],
   "source": [
    "import tushare as ts\n",
    "import pandas as pd\n",
    "from pandas import DataFrame, Series\n",
    "import numpy as np"
   ]
  },
  {
   "cell_type": "code",
   "execution_count": 15,
   "id": "83a62dc5",
   "metadata": {},
   "outputs": [
    {
     "data": {
      "text/html": [
       "<div>\n",
       "<style scoped>\n",
       "    .dataframe tbody tr th:only-of-type {\n",
       "        vertical-align: middle;\n",
       "    }\n",
       "\n",
       "    .dataframe tbody tr th {\n",
       "        vertical-align: top;\n",
       "    }\n",
       "\n",
       "    .dataframe thead th {\n",
       "        text-align: right;\n",
       "    }\n",
       "</style>\n",
       "<table border=\"1\" class=\"dataframe\">\n",
       "  <thead>\n",
       "    <tr style=\"text-align: right;\">\n",
       "      <th></th>\n",
       "      <th>open</th>\n",
       "      <th>close</th>\n",
       "      <th>high</th>\n",
       "      <th>low</th>\n",
       "      <th>volume</th>\n",
       "      <th>code</th>\n",
       "    </tr>\n",
       "    <tr>\n",
       "      <th>date</th>\n",
       "      <th></th>\n",
       "      <th></th>\n",
       "      <th></th>\n",
       "      <th></th>\n",
       "      <th></th>\n",
       "      <th></th>\n",
       "    </tr>\n",
       "  </thead>\n",
       "  <tbody>\n",
       "    <tr>\n",
       "      <th>2023-01-03</th>\n",
       "      <td>1731.20</td>\n",
       "      <td>1730.01</td>\n",
       "      <td>1738.43</td>\n",
       "      <td>1706.01</td>\n",
       "      <td>26034.0</td>\n",
       "      <td>600519</td>\n",
       "    </tr>\n",
       "    <tr>\n",
       "      <th>2023-01-04</th>\n",
       "      <td>1730.00</td>\n",
       "      <td>1725.01</td>\n",
       "      <td>1738.70</td>\n",
       "      <td>1716.00</td>\n",
       "      <td>20416.0</td>\n",
       "      <td>600519</td>\n",
       "    </tr>\n",
       "    <tr>\n",
       "      <th>2023-01-05</th>\n",
       "      <td>1737.00</td>\n",
       "      <td>1801.00</td>\n",
       "      <td>1801.00</td>\n",
       "      <td>1733.00</td>\n",
       "      <td>47943.0</td>\n",
       "      <td>600519</td>\n",
       "    </tr>\n",
       "    <tr>\n",
       "      <th>2023-01-06</th>\n",
       "      <td>1806.12</td>\n",
       "      <td>1803.77</td>\n",
       "      <td>1811.90</td>\n",
       "      <td>1787.00</td>\n",
       "      <td>24904.0</td>\n",
       "      <td>600519</td>\n",
       "    </tr>\n",
       "    <tr>\n",
       "      <th>2023-01-09</th>\n",
       "      <td>1835.00</td>\n",
       "      <td>1841.20</td>\n",
       "      <td>1849.98</td>\n",
       "      <td>1807.82</td>\n",
       "      <td>30977.0</td>\n",
       "      <td>600519</td>\n",
       "    </tr>\n",
       "  </tbody>\n",
       "</table>\n",
       "</div>"
      ],
      "text/plain": [
       "               open    close     high      low   volume    code\n",
       "date                                                           \n",
       "2023-01-03  1731.20  1730.01  1738.43  1706.01  26034.0  600519\n",
       "2023-01-04  1730.00  1725.01  1738.70  1716.00  20416.0  600519\n",
       "2023-01-05  1737.00  1801.00  1801.00  1733.00  47943.0  600519\n",
       "2023-01-06  1806.12  1803.77  1811.90  1787.00  24904.0  600519\n",
       "2023-01-09  1835.00  1841.20  1849.98  1807.82  30977.0  600519"
      ]
     },
     "execution_count": 15,
     "metadata": {},
     "output_type": "execute_result"
    }
   ],
   "source": [
    "df = pd.read_csv('./action600519.csv')\n",
    "df.drop(labels = 'Unnamed: 0',axis = 1, inplace = True)\n",
    "df.set_index('date',inplace = True)\n",
    "df.head()"
   ]
  },
  {
   "cell_type": "markdown",
   "id": "4a1db961",
   "metadata": {},
   "source": [
    " -->  (close - open)/open > 0.03"
   ]
  },
  {
   "cell_type": "code",
   "execution_count": 16,
   "id": "e55dfa7a",
   "metadata": {},
   "outputs": [
    {
     "data": {
      "text/plain": [
       "date\n",
       "2023-01-03    False\n",
       "2023-01-04    False\n",
       "2023-01-05     True\n",
       "2023-01-06    False\n",
       "2023-01-09    False\n",
       "              ...  \n",
       "2023-06-20    False\n",
       "2023-06-21    False\n",
       "2023-06-26    False\n",
       "2023-06-27    False\n",
       "2023-06-28    False\n",
       "Length: 116, dtype: bool"
      ]
     },
     "execution_count": 16,
     "metadata": {},
     "output_type": "execute_result"
    }
   ],
   "source": [
    "(df['close'] -df['open'])/df['open'] > 0.03"
   ]
  },
  {
   "cell_type": "markdown",
   "id": "d6a14c65",
   "metadata": {},
   "source": [
    "Dans le processus d'analyse, si une valeur bool est générée, l'étape suivante utilisera immédiatement bool comme index de ligne des données d'origine"
   ]
  },
  {
   "cell_type": "code",
   "execution_count": 17,
   "id": "114f0d5c",
   "metadata": {},
   "outputs": [
    {
     "data": {
      "text/html": [
       "<div>\n",
       "<style scoped>\n",
       "    .dataframe tbody tr th:only-of-type {\n",
       "        vertical-align: middle;\n",
       "    }\n",
       "\n",
       "    .dataframe tbody tr th {\n",
       "        vertical-align: top;\n",
       "    }\n",
       "\n",
       "    .dataframe thead th {\n",
       "        text-align: right;\n",
       "    }\n",
       "</style>\n",
       "<table border=\"1\" class=\"dataframe\">\n",
       "  <thead>\n",
       "    <tr style=\"text-align: right;\">\n",
       "      <th></th>\n",
       "      <th>open</th>\n",
       "      <th>close</th>\n",
       "      <th>high</th>\n",
       "      <th>low</th>\n",
       "      <th>volume</th>\n",
       "      <th>code</th>\n",
       "    </tr>\n",
       "    <tr>\n",
       "      <th>date</th>\n",
       "      <th></th>\n",
       "      <th></th>\n",
       "      <th></th>\n",
       "      <th></th>\n",
       "      <th></th>\n",
       "      <th></th>\n",
       "    </tr>\n",
       "  </thead>\n",
       "  <tbody>\n",
       "    <tr>\n",
       "      <th>2023-01-03</th>\n",
       "      <td>1731.20</td>\n",
       "      <td>1730.01</td>\n",
       "      <td>1738.43</td>\n",
       "      <td>1706.01</td>\n",
       "      <td>26034.0</td>\n",
       "      <td>600519</td>\n",
       "    </tr>\n",
       "    <tr>\n",
       "      <th>2023-01-04</th>\n",
       "      <td>1730.00</td>\n",
       "      <td>1725.01</td>\n",
       "      <td>1738.70</td>\n",
       "      <td>1716.00</td>\n",
       "      <td>20416.0</td>\n",
       "      <td>600519</td>\n",
       "    </tr>\n",
       "    <tr>\n",
       "      <th>2023-01-05</th>\n",
       "      <td>1737.00</td>\n",
       "      <td>1801.00</td>\n",
       "      <td>1801.00</td>\n",
       "      <td>1733.00</td>\n",
       "      <td>47943.0</td>\n",
       "      <td>600519</td>\n",
       "    </tr>\n",
       "    <tr>\n",
       "      <th>2023-01-06</th>\n",
       "      <td>1806.12</td>\n",
       "      <td>1803.77</td>\n",
       "      <td>1811.90</td>\n",
       "      <td>1787.00</td>\n",
       "      <td>24904.0</td>\n",
       "      <td>600519</td>\n",
       "    </tr>\n",
       "    <tr>\n",
       "      <th>2023-01-09</th>\n",
       "      <td>1835.00</td>\n",
       "      <td>1841.20</td>\n",
       "      <td>1849.98</td>\n",
       "      <td>1807.82</td>\n",
       "      <td>30977.0</td>\n",
       "      <td>600519</td>\n",
       "    </tr>\n",
       "    <tr>\n",
       "      <th>...</th>\n",
       "      <td>...</td>\n",
       "      <td>...</td>\n",
       "      <td>...</td>\n",
       "      <td>...</td>\n",
       "      <td>...</td>\n",
       "      <td>...</td>\n",
       "    </tr>\n",
       "    <tr>\n",
       "      <th>2023-06-20</th>\n",
       "      <td>1740.00</td>\n",
       "      <td>1743.46</td>\n",
       "      <td>1765.00</td>\n",
       "      <td>1735.00</td>\n",
       "      <td>20947.0</td>\n",
       "      <td>600519</td>\n",
       "    </tr>\n",
       "    <tr>\n",
       "      <th>2023-06-21</th>\n",
       "      <td>1740.00</td>\n",
       "      <td>1735.83</td>\n",
       "      <td>1756.60</td>\n",
       "      <td>1735.00</td>\n",
       "      <td>17721.0</td>\n",
       "      <td>600519</td>\n",
       "    </tr>\n",
       "    <tr>\n",
       "      <th>2023-06-26</th>\n",
       "      <td>1720.11</td>\n",
       "      <td>1709.00</td>\n",
       "      <td>1730.00</td>\n",
       "      <td>1695.00</td>\n",
       "      <td>23993.0</td>\n",
       "      <td>600519</td>\n",
       "    </tr>\n",
       "    <tr>\n",
       "      <th>2023-06-27</th>\n",
       "      <td>1709.99</td>\n",
       "      <td>1711.05</td>\n",
       "      <td>1719.70</td>\n",
       "      <td>1700.09</td>\n",
       "      <td>15174.0</td>\n",
       "      <td>600519</td>\n",
       "    </tr>\n",
       "    <tr>\n",
       "      <th>2023-06-28</th>\n",
       "      <td>1713.18</td>\n",
       "      <td>1728.38</td>\n",
       "      <td>1734.00</td>\n",
       "      <td>1711.00</td>\n",
       "      <td>18574.0</td>\n",
       "      <td>600519</td>\n",
       "    </tr>\n",
       "  </tbody>\n",
       "</table>\n",
       "<p>116 rows × 6 columns</p>\n",
       "</div>"
      ],
      "text/plain": [
       "               open    close     high      low   volume    code\n",
       "date                                                           \n",
       "2023-01-03  1731.20  1730.01  1738.43  1706.01  26034.0  600519\n",
       "2023-01-04  1730.00  1725.01  1738.70  1716.00  20416.0  600519\n",
       "2023-01-05  1737.00  1801.00  1801.00  1733.00  47943.0  600519\n",
       "2023-01-06  1806.12  1803.77  1811.90  1787.00  24904.0  600519\n",
       "2023-01-09  1835.00  1841.20  1849.98  1807.82  30977.0  600519\n",
       "...             ...      ...      ...      ...      ...     ...\n",
       "2023-06-20  1740.00  1743.46  1765.00  1735.00  20947.0  600519\n",
       "2023-06-21  1740.00  1735.83  1756.60  1735.00  17721.0  600519\n",
       "2023-06-26  1720.11  1709.00  1730.00  1695.00  23993.0  600519\n",
       "2023-06-27  1709.99  1711.05  1719.70  1700.09  15174.0  600519\n",
       "2023-06-28  1713.18  1728.38  1734.00  1711.00  18574.0  600519\n",
       "\n",
       "[116 rows x 6 columns]"
      ]
     },
     "execution_count": 17,
     "metadata": {},
     "output_type": "execute_result"
    }
   ],
   "source": [
    "df.loc[(df['close'] -df['open']/df['open'] > 0.03)]"
   ]
  },
  {
   "cell_type": "markdown",
   "id": "930c00b8",
   "metadata": {},
   "source": [
    "Si la valeur booléenne est utilisée comme index de ligne de df, les données de ligne correspondant à true peuvent être extraites"
   ]
  },
  {
   "cell_type": "code",
   "execution_count": 18,
   "id": "d86e7dfb",
   "metadata": {},
   "outputs": [
    {
     "data": {
      "text/plain": [
       "Index(['2023-01-03', '2023-01-04', '2023-01-05', '2023-01-06', '2023-01-09',\n",
       "       '2023-01-10', '2023-01-11', '2023-01-12', '2023-01-13', '2023-01-16',\n",
       "       ...\n",
       "       '2023-06-13', '2023-06-14', '2023-06-15', '2023-06-16', '2023-06-19',\n",
       "       '2023-06-20', '2023-06-21', '2023-06-26', '2023-06-27', '2023-06-28'],\n",
       "      dtype='object', name='date', length=116)"
      ]
     },
     "execution_count": 18,
     "metadata": {},
     "output_type": "execute_result"
    }
   ],
   "source": [
    "df.loc[(df['close'] -df['open']/df['open'] > 0.03)].index"
   ]
  }
 ],
 "metadata": {
  "kernelspec": {
   "display_name": "Python 3 (ipykernel)",
   "language": "python",
   "name": "python3"
  },
  "language_info": {
   "codemirror_mode": {
    "name": "ipython",
    "version": 3
   },
   "file_extension": ".py",
   "mimetype": "text/x-python",
   "name": "python",
   "nbconvert_exporter": "python",
   "pygments_lexer": "ipython3",
   "version": "3.10.9"
  }
 },
 "nbformat": 4,
 "nbformat_minor": 5
}
