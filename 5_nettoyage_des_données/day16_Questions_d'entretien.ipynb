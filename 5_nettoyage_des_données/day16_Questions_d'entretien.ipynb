{
 "cells": [
  {
   "cell_type": "markdown",
   "id": "190288bd",
   "metadata": {},
   "source": [
    "### Questions d'entretien\n",
    "- La description des données:\n",
    "    - Les données sont les données de température d'une chambre froide, et 1 à 7 correspondent à 7 appareils d'acquisition de température, qui sont collectés une fois par minute.\n",
    "- Objectifs de traitement des données :\n",
    "    - Utiliser 1-4 pour correspondre aux 4 équipements nécessaires, et estimer les données correspondant à 5-7 en établissant le modèle de relation champ température de la chambre froide.\n",
    "    - Au final, seuls 4 appareils doivent être placés dans chaque chambre froide au lieu de 7 appareils.\n",
    "    - Construire un modèle de régression logistique\n",
    "- Il n'y a pas de réponse standard, vous pouvez opérer selon votre compréhension personnelle, veuillez décrire brièvement votre processus d'opération dans le texte, merci pour votre coopération.\n",
    "- Les données de test sont testData.xlsx"
   ]
  },
  {
   "cell_type": "code",
   "execution_count": null,
   "id": "2fdccc2c",
   "metadata": {},
   "outputs": [],
   "source": []
  }
 ],
 "metadata": {
  "kernelspec": {
   "display_name": "Python 3 (ipykernel)",
   "language": "python",
   "name": "python3"
  },
  "language_info": {
   "codemirror_mode": {
    "name": "ipython",
    "version": 3
   },
   "file_extension": ".py",
   "mimetype": "text/x-python",
   "name": "python",
   "nbconvert_exporter": "python",
   "pygments_lexer": "ipython3",
   "version": "3.10.9"
  }
 },
 "nbformat": 4,
 "nbformat_minor": 5
}
