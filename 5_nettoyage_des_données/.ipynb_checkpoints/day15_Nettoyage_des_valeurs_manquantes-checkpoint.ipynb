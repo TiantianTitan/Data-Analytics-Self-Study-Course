{
 "cells": [
  {
   "cell_type": "markdown",
   "id": "79d7b68a",
   "metadata": {},
   "source": [
    "## Les fonctions on va apprendre:"
   ]
  },
  {
   "cell_type": "markdown",
   "id": "520cc81d",
   "metadata": {},
   "source": [
    "### Traitement des données manquantes\n",
    "#### Il existe deux types de données perdues :\n",
    "- None\n",
    "- np.nan(NaN)"
   ]
  },
  {
   "cell_type": "markdown",
   "id": "8efa88e5",
   "metadata": {},
   "source": [
    "#### La différence entre les deux types de perte de données:\n"
   ]
  },
  {
   "cell_type": "code",
   "execution_count": 1,
   "id": "054b2175",
   "metadata": {},
   "outputs": [
    {
     "data": {
      "text/plain": [
       "NoneType"
      ]
     },
     "execution_count": 1,
     "metadata": {},
     "output_type": "execute_result"
    }
   ],
   "source": [
    "import numpy as np\n",
    "type(None)"
   ]
  },
  {
   "cell_type": "code",
   "execution_count": 6,
   "id": "a31b554f",
   "metadata": {},
   "outputs": [
    {
     "data": {
      "text/plain": [
       "nan"
      ]
     },
     "execution_count": 6,
     "metadata": {},
     "output_type": "execute_result"
    }
   ],
   "source": [
    "np.nan"
   ]
  },
  {
   "cell_type": "code",
   "execution_count": 7,
   "id": "cdf6de3a",
   "metadata": {},
   "outputs": [
    {
     "data": {
      "text/plain": [
       "float"
      ]
     },
     "execution_count": 7,
     "metadata": {},
     "output_type": "execute_result"
    }
   ],
   "source": [
    "type(np.nan)"
   ]
  },
  {
   "cell_type": "code",
   "execution_count": null,
   "id": "27d8dec7",
   "metadata": {},
   "outputs": [],
   "source": []
  }
 ],
 "metadata": {
  "kernelspec": {
   "display_name": "Python 3 (ipykernel)",
   "language": "python",
   "name": "python3"
  },
  "language_info": {
   "codemirror_mode": {
    "name": "ipython",
    "version": 3
   },
   "file_extension": ".py",
   "mimetype": "text/x-python",
   "name": "python",
   "nbconvert_exporter": "python",
   "pygments_lexer": "ipython3",
   "version": "3.10.9"
  }
 },
 "nbformat": 4,
 "nbformat_minor": 5
}
