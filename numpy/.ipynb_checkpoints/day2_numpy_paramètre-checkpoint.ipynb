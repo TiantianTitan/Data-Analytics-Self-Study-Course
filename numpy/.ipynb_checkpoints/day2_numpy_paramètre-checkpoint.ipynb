{
 "cells": [
  {
   "cell_type": "markdown",
   "id": "7a38b4f7",
   "metadata": {},
   "source": [
    "## Les fonctions on va apprendre:\n",
    "- arr.shape\n",
    "- arr.ndim\n",
    "- arr.size\n",
    "- arr.dtype\n",
    "- type()"
   ]
  },
  {
   "cell_type": "markdown",
   "id": "4771cc3e",
   "metadata": {},
   "source": [
    "#### Les attributs communs de numpy"
   ]
  },
  {
   "cell_type": "markdown",
   "id": "e2b7c88b",
   "metadata": {},
   "source": [
    "shape <br>\n",
    "ndim <br>\n",
    "size <br>\n",
    "dtype <br>"
   ]
  },
  {
   "cell_type": "code",
   "execution_count": 3,
   "id": "2b1a280f",
   "metadata": {},
   "outputs": [
    {
     "data": {
      "text/plain": [
       "array([[47, 77, 24, 67, 62, 96],\n",
       "       [58, 23, 37,  3, 66, 63],\n",
       "       [79, 51, 78, 78,  9, 31],\n",
       "       [60, 85, 96, 71, 82, 46],\n",
       "       [43, 41, 34, 38, 10, 70]])"
      ]
     },
     "execution_count": 3,
     "metadata": {},
     "output_type": "execute_result"
    }
   ],
   "source": [
    "import numpy as np\n",
    "arr = np.random.randint(0,100,size=(5,6))\n",
    "arr"
   ]
  },
  {
   "cell_type": "code",
   "execution_count": 5,
   "id": "e4efba08",
   "metadata": {},
   "outputs": [
    {
     "data": {
      "text/plain": [
       "(5, 6)"
      ]
     },
     "execution_count": 5,
     "metadata": {},
     "output_type": "execute_result"
    }
   ],
   "source": [
    "arr.shape #Renvoie la forme du tableau"
   ]
  },
  {
   "cell_type": "code",
   "execution_count": 6,
   "id": "407be6e4",
   "metadata": {},
   "outputs": [
    {
     "data": {
      "text/plain": [
       "2"
      ]
     },
     "execution_count": 6,
     "metadata": {},
     "output_type": "execute_result"
    }
   ],
   "source": [
    "arr.ndim #Renvoie les dimensions du tableau"
   ]
  },
  {
   "cell_type": "code",
   "execution_count": 7,
   "id": "eb47759a",
   "metadata": {},
   "outputs": [
    {
     "data": {
      "text/plain": [
       "30"
      ]
     },
     "execution_count": 7,
     "metadata": {},
     "output_type": "execute_result"
    }
   ],
   "source": [
    "arr.size #Renvoie la nombre des éléments dans ce tableau"
   ]
  },
  {
   "cell_type": "code",
   "execution_count": 8,
   "id": "2934b5d0",
   "metadata": {},
   "outputs": [
    {
     "data": {
      "text/plain": [
       "dtype('int64')"
      ]
     },
     "execution_count": 8,
     "metadata": {},
     "output_type": "execute_result"
    }
   ],
   "source": [
    "arr.dtype #Le type des éléments de tableau retournés"
   ]
  },
  {
   "cell_type": "code",
   "execution_count": 9,
   "id": "4ebc7fbf",
   "metadata": {},
   "outputs": [
    {
     "data": {
      "text/plain": [
       "numpy.ndarray"
      ]
     },
     "execution_count": 9,
     "metadata": {},
     "output_type": "execute_result"
    }
   ],
   "source": [
    "type(arr)"
   ]
  },
  {
   "cell_type": "markdown",
   "id": "ce34ead6",
   "metadata": {},
   "source": [
    "Créez un tableau, en spécifiant le type d'élément du tableau comme int32"
   ]
  },
  {
   "cell_type": "code",
   "execution_count": 10,
   "id": "9b08276e",
   "metadata": {},
   "outputs": [],
   "source": [
    "arr = np.array([1,2,3],dtype='int32')"
   ]
  },
  {
   "cell_type": "code",
   "execution_count": 11,
   "id": "e2ba6eb1",
   "metadata": {},
   "outputs": [
    {
     "data": {
      "text/plain": [
       "dtype('int32')"
      ]
     },
     "execution_count": 11,
     "metadata": {},
     "output_type": "execute_result"
    }
   ],
   "source": [
    "arr.dtype"
   ]
  },
  {
   "cell_type": "code",
   "execution_count": 14,
   "id": "6f42dbab",
   "metadata": {},
   "outputs": [
    {
     "data": {
      "text/plain": [
       "dtype('int8')"
      ]
     },
     "execution_count": 14,
     "metadata": {},
     "output_type": "execute_result"
    }
   ],
   "source": [
    "arr.dtype = 'int8' #Changer le type d'élément d'un tableau\n",
    "arr.dtype"
   ]
  }
 ],
 "metadata": {
  "kernelspec": {
   "display_name": "Python 3 (ipykernel)",
   "language": "python",
   "name": "python3"
  },
  "language_info": {
   "codemirror_mode": {
    "name": "ipython",
    "version": 3
   },
   "file_extension": ".py",
   "mimetype": "text/x-python",
   "name": "python",
   "nbconvert_exporter": "python",
   "pygments_lexer": "ipython3",
   "version": "3.10.9"
  }
 },
 "nbformat": 4,
 "nbformat_minor": 5
}
